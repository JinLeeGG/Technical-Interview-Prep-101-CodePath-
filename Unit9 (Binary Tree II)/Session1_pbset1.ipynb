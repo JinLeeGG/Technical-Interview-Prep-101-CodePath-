{
  "nbformat": 4,
  "nbformat_minor": 0,
  "metadata": {
    "colab": {
      "provenance": [],
      "authorship_tag": "ABX9TyM4la8hty59RwGICipyNwx3",
      "include_colab_link": true
    },
    "kernelspec": {
      "name": "python3",
      "display_name": "Python 3"
    },
    "language_info": {
      "name": "python"
    }
  },
  "cells": [
    {
      "cell_type": "markdown",
      "metadata": {
        "id": "view-in-github",
        "colab_type": "text"
      },
      "source": [
        "<a href=\"https://colab.research.google.com/github/JinLeeGG/Technical_Interview_Prep102_CodePath/blob/main/Unit9%20(Binary%20Tree%20II)/Session1_pbset1.ipynb\" target=\"_parent\"><img src=\"https://colab.research.google.com/assets/colab-badge.svg\" alt=\"Open In Colab\"/></a>"
      ]
    },
    {
      "cell_type": "code",
      "source": [
        "from collections import deque\n",
        "\n",
        "# Tree Node class\n",
        "class TreeNode:\n",
        "  def __init__(self, value, key=None, left=None, right=None):\n",
        "      self.key = key\n",
        "      self.val = value\n",
        "      self.left = left\n",
        "      self.right = right\n",
        "\n",
        "def build_tree(values):\n",
        "  if not values:\n",
        "      return None\n",
        "\n",
        "  def get_key_value(item):\n",
        "      if isinstance(item, tuple):\n",
        "          return item[0], item[1]\n",
        "      else:\n",
        "          return None, item\n",
        "\n",
        "  key, value = get_key_value(values[0])\n",
        "  root = TreeNode(value, key)\n",
        "  queue = deque([root])\n",
        "  index = 1\n",
        "\n",
        "  while queue:\n",
        "      node = queue.popleft()\n",
        "      if index < len(values) and values[index] is not None:\n",
        "          left_key, left_value = get_key_value(values[index])\n",
        "          node.left = TreeNode(left_value, left_key)\n",
        "          queue.append(node.left)\n",
        "      index += 1\n",
        "      if index < len(values) and values[index] is not None:\n",
        "          right_key, right_value = get_key_value(values[index])\n",
        "          node.right = TreeNode(right_value, right_key)\n",
        "          queue.append(node.right)\n",
        "      index += 1\n",
        "\n",
        "  return root"
      ],
      "metadata": {
        "id": "SkOv_Fsdvvyd"
      },
      "execution_count": 7,
      "outputs": []
    },
    {
      "cell_type": "code",
      "source": [
        "from collections import deque\n",
        "\n",
        "# Tree Node class\n",
        "class TreeNode:\n",
        "    def __init__(self, value, left=None, right=None):\n",
        "        self.val = value\n",
        "        self.left = left\n",
        "        self.right = right\n",
        "\n",
        "def print_tree(root):\n",
        "    if not root:\n",
        "        return \"Empty\"\n",
        "    result = []\n",
        "    queue = deque([root])\n",
        "    while queue:\n",
        "        node = queue.popleft()\n",
        "        if node:\n",
        "            result.append(node.val)\n",
        "            queue.append(node.left)\n",
        "            queue.append(node.right)\n",
        "        else:\n",
        "            result.append(None)\n",
        "    while result and result[-1] is None:\n",
        "        result.pop()\n",
        "    print(result)\n"
      ],
      "metadata": {
        "id": "sLLtJ2NRv4cq"
      },
      "execution_count": 8,
      "outputs": []
    },
    {
      "cell_type": "markdown",
      "source": [
        "# Problem 1"
      ],
      "metadata": {
        "id": "zNK_MlOdx1Ph"
      }
    },
    {
      "cell_type": "code",
      "execution_count": 13,
      "metadata": {
        "colab": {
          "base_uri": "https://localhost:8080/"
        },
        "id": "sQGi-E6wutdw",
        "outputId": "2f5308b9-fd2e-46db-d621-83eaa6efcdcc"
      },
      "outputs": [
        {
          "output_type": "stream",
          "name": "stdout",
          "text": [
            "[3, 4, 5, 5, 4, None, 7]\n"
          ]
        }
      ],
      "source": [
        "class TreeNode():\n",
        "     def __init__(self, quantity, left=None, right=None):\n",
        "        self.val = quantity\n",
        "        self.left = left\n",
        "        self.right = right\n",
        "\n",
        "def merge_orders(order1: TreeNode, order2: TreeNode) -> TreeNode:\n",
        "    \"\"\"\n",
        "    Merges two binary trees representing cookie orders.\n",
        "\n",
        "    If two nodes overlap, their values are summed. Otherwise, the existing\n",
        "    node is used.\n",
        "\n",
        "    Args:\n",
        "        order1: The root of the first order tree.\n",
        "        order2: The root of the second order tree.\n",
        "\n",
        "    Returns:\n",
        "        The root of the newly merged order tree.\n",
        "    \"\"\"\n",
        "    # If the first order tree is empty at this position, the result is just\n",
        "    # the second order tree's branch.\n",
        "    if not order1:\n",
        "        return order2\n",
        "\n",
        "    # Similarly, if the second order is empty, the result is the first order's branch.\n",
        "    if not order2:\n",
        "        return order1\n",
        "\n",
        "    # If both nodes exist (overlap), create a new node with their sum.\n",
        "    merged_node = TreeNode(order1.val + order2.val)\n",
        "\n",
        "    # Recursively merge the left and right subtrees.\n",
        "    merged_node.left = merge_orders(order1.left, order2.left)\n",
        "    merged_node.right = merge_orders(order1.right, order2.right)\n",
        "\n",
        "    return merged_node\n",
        "\n",
        "    \"\"\"\n",
        "     1             2\n",
        "    /  \\         /   \\\n",
        "   3    2       1     3\n",
        " /               \\      \\\n",
        "5                 4      7\n",
        "\"\"\"\n",
        "# Using build_tree() function included at top of page\n",
        "cookies1 = [1, 3, 2, 5]\n",
        "cookies2 = [2, 1, 3, None, 4, None, 7]\n",
        "order1 = build_tree(cookies1)\n",
        "order2 = build_tree(cookies2)\n",
        "\n",
        "# Using print_tree() function included at top of page\n",
        "print_tree(merge_orders(order1, order2))"
      ]
    },
    {
      "cell_type": "markdown",
      "source": [
        "# Problem 2"
      ],
      "metadata": {
        "id": "hfrCYUDWx3qM"
      }
    },
    {
      "cell_type": "code",
      "source": [
        "import collections\n",
        "\n",
        "class Puff():\n",
        "     def __init__(self, flavor, left=None, right=None):\n",
        "        self.val = flavor\n",
        "        self.left = left\n",
        "        self.right = right\n",
        "\n",
        "def print_design(design: Puff):\n",
        "    \"\"\"\n",
        "    Prints the flavors of a croquembouche design in level order.\n",
        "\n",
        "    This function performs a Breadth-First Search (BFS) on the tree.\n",
        "\n",
        "    Args:\n",
        "        design: The root node of the binary tree representing the design.\n",
        "    \"\"\"\n",
        "    # If the design is empty, print an empty list.\n",
        "    if not design:\n",
        "        print([])\n",
        "        return\n",
        "\n",
        "    flavors = []\n",
        "    # Use collections.deque for an efficient queue.\n",
        "    queue = collections.deque([design])\n",
        "\n",
        "    while queue:\n",
        "        # Get the current puff from the front of the queue.\n",
        "        current_puff = queue.popleft()\n",
        "\n",
        "        # Add its flavor to our list.\n",
        "        flavors.append(current_puff.val)\n",
        "\n",
        "        # If a left child exists, add it to the queue to visit later.\n",
        "        if current_puff.left:\n",
        "            queue.append(current_puff.left)\n",
        "\n",
        "        # If a right child exists, add it to the queue.\n",
        "        if current_puff.right:\n",
        "            queue.append(current_puff.right)\n",
        "\n",
        "    print(flavors)\n",
        "\n",
        "# Example Usage:\n",
        "\"\"\"\n",
        "            Vanilla\n",
        "           /       \\\n",
        "      Chocolate   Strawberry\n",
        "     /     \\\n",
        "  Vanilla   Matcha\n",
        "\"\"\"\n",
        "croquembouche = Puff(\"Vanilla\",\n",
        "                    Puff(\"Chocolate\", Puff(\"Vanilla\"), Puff(\"Matcha\")),\n",
        "                    Puff(\"Strawberry\"))\n",
        "print_design(croquembouche)\n",
        "#\n",
        "# Example Output:\n",
        "# ['Vanilla', 'Chocolate', 'Strawberry', 'Vanilla', 'Matcha']"
      ],
      "metadata": {
        "colab": {
          "base_uri": "https://localhost:8080/"
        },
        "id": "zKmUM_T5wA3U",
        "outputId": "536c2660-b34d-446d-fcfb-aa11082198c0"
      },
      "execution_count": 11,
      "outputs": [
        {
          "output_type": "stream",
          "name": "stdout",
          "text": [
            "['Vanilla', 'Chocolate', 'Strawberry', 'Vanilla', 'Matcha']\n"
          ]
        }
      ]
    },
    {
      "cell_type": "markdown",
      "source": [
        "# Problem 3"
      ],
      "metadata": {
        "id": "PsUxWAIPx6ds"
      }
    },
    {
      "cell_type": "code",
      "source": [
        "def max_tiers(cake: TreeNode) -> int:\n",
        "    \"\"\"\n",
        "    Calculates the maximum depth (number of tiers) of a binary tree.\n",
        "\n",
        "    The depth is the number of nodes along the longest path from the\n",
        "    root node to the farthest leaf node.\n",
        "\n",
        "    Args:\n",
        "        cake: The root node of the binary tree representing the cake.\n",
        "\n",
        "    Returns:\n",
        "        The maximum number of tiers in the cake.\n",
        "    \"\"\"\n",
        "    # Base case: An empty tree (or the end of a path) has 0 tiers.\n",
        "    if not cake:\n",
        "        return 0\n",
        "\n",
        "    # Recursively find the number of tiers in the left and right sub-cakes.\n",
        "    left_tiers = max_tiers(cake.left)\n",
        "    right_tiers = max_tiers(cake.right)\n",
        "\n",
        "    # The total number of tiers is 1 (for the current section) plus the\n",
        "    # maximum number of tiers from its left or right side.\n",
        "    return 1 + max(left_tiers, right_tiers)\n",
        "\n",
        "\"\"\"\n",
        "        Chocolate\n",
        "        /        \\\n",
        "    Vanilla    Strawberry\n",
        "                /     \\\n",
        "         Chocolate    Coffee\n",
        "\"\"\"\n",
        "# Using build_tree() function included at top of page\n",
        "cake_sections = [\"Chocolate\", \"Vanilla\", \"Strawberry\", None, None, \"Chocolate\", \"Coffee\"]\n",
        "cake = build_tree(cake_sections)\n",
        "\n",
        "print(max_tiers(cake))"
      ],
      "metadata": {
        "colab": {
          "base_uri": "https://localhost:8080/"
        },
        "id": "Nv5-ZFcYw9vJ",
        "outputId": "9ddebadb-1490-4912-e144-857e8f533e76"
      },
      "execution_count": 12,
      "outputs": [
        {
          "output_type": "stream",
          "name": "stdout",
          "text": [
            "3\n"
          ]
        }
      ]
    },
    {
      "cell_type": "markdown",
      "source": [
        "# Problem 4"
      ],
      "metadata": {
        "id": "rQPuARkdx8FY"
      }
    },
    {
      "cell_type": "code",
      "source": [
        "import collections\n",
        "\n",
        "class TreeNode():\n",
        "     def __init__(self, value, left=None, right=None):\n",
        "        self.val = value\n",
        "        self.left = left\n",
        "        self.right = right\n",
        "\n",
        "def max_tiers(cake: TreeNode) -> int:\n",
        "    \"\"\"\n",
        "    Calculates the maximum depth (tiers) of a binary tree using BFS.\n",
        "\n",
        "    Args:\n",
        "        cake: The root node of the binary tree representing the cake.\n",
        "\n",
        "    Returns:\n",
        "        The maximum number of tiers in the cake.\n",
        "    \"\"\"\n",
        "    if not cake:\n",
        "        return 0\n",
        "\n",
        "    tiers = 0\n",
        "    queue = collections.deque([cake])\n",
        "\n",
        "    while queue:\n",
        "        # Each pass of this loop represents one full level of the cake.\n",
        "        tiers += 1\n",
        "        # Number of nodes at the current level.\n",
        "        level_size = len(queue)\n",
        "\n",
        "        # Process all nodes at the current level before moving to the next.\n",
        "        for _ in range(level_size):\n",
        "            node = queue.popleft()\n",
        "\n",
        "            # Add the children to the queue for the next level's processing.\n",
        "            if node.left:\n",
        "                queue.append(node.left)\n",
        "            if node.right:\n",
        "                queue.append(node.right)\n",
        "\n",
        "    return tiers\n",
        "\n",
        "\"\"\"\n",
        "        Chocolate\n",
        "        /        \\\n",
        "    Vanilla    Strawberry\n",
        "                /     \\\n",
        "         Chocolate    Coffee\n",
        "\"\"\"\n",
        "# Using build_tree() function included at top of page\n",
        "cake_sections = [\"Chocolate\", \"Vanilla\", \"Strawberry\", None, None, \"Chocolate\", \"Coffee\"]\n",
        "cake = build_tree(cake_sections)\n",
        "\n",
        "print(max_tiers(cake))"
      ],
      "metadata": {
        "colab": {
          "base_uri": "https://localhost:8080/"
        },
        "id": "yjYNhoTxxhft",
        "outputId": "7311a41a-6e25-428f-ab6d-0dd54f88d371"
      },
      "execution_count": 18,
      "outputs": [
        {
          "output_type": "stream",
          "name": "stdout",
          "text": [
            "3\n"
          ]
        }
      ]
    },
    {
      "cell_type": "markdown",
      "source": [
        "# Problem 5"
      ],
      "metadata": {
        "id": "oXA4Sm_RyWSw"
      }
    },
    {
      "cell_type": "code",
      "source": [
        "class TreeNode():\n",
        "     def __init__(self, value, left=None, right=None):\n",
        "        self.val = value\n",
        "        self.left = left\n",
        "        self.right = right\n",
        "\n",
        "def can_fulfill_order(inventory: TreeNode, order_size: int) -> bool:\n",
        "    \"\"\"\n",
        "    Checks if a root-to-leaf path exists in the inventory tree\n",
        "    that sums up to the order_size.\n",
        "\n",
        "    Args:\n",
        "        inventory: The root node of the binary tree of baked goods.\n",
        "        order_size: The desired total quantity for the order.\n",
        "\n",
        "    Returns:\n",
        "        True if such a path exists, False otherwise.\n",
        "    \"\"\"\n",
        "    # An empty inventory cannot fulfill any order.\n",
        "    if not inventory:\n",
        "        return False\n",
        "\n",
        "    # Subtract the current item's quantity from the total needed.\n",
        "    remaining_size = order_size - inventory.val\n",
        "\n",
        "    # Check if the current node is a leaf node.\n",
        "    is_leaf = not inventory.left and not inventory.right\n",
        "    if is_leaf:\n",
        "        # If it's a leaf, we have a valid path only if the remaining\n",
        "        # size is exactly zero.\n",
        "        return remaining_size == 0\n",
        "\n",
        "    # If it's not a leaf, recursively check the left and right subtrees.\n",
        "    # We only need one valid path, so we use 'or'. The 'or' operator\n",
        "    # will short-circuit, stopping the search as soon as a valid path is found.\n",
        "    return can_fulfill_order(inventory.left, remaining_size) or \\\n",
        "           can_fulfill_order(inventory.right, remaining_size)\n",
        "\n",
        "\"\"\"\n",
        "             5\n",
        "           /   \\\n",
        "          4     8\n",
        "        /      /  \\\n",
        "       11     13   4\n",
        "      /  \\          \\\n",
        "     7   2           1\n",
        "\"\"\"\n",
        "\n",
        "# Using build_tree() function included at top of the page\n",
        "quantities = [5,4,8,11,None,13,4,7,2,None,None,None,1]\n",
        "baked_goods = build_tree(quantities)\n",
        "\n",
        "print(can_fulfill_order(baked_goods, 22))\n",
        "print(can_fulfill_order(baked_goods, 2))"
      ],
      "metadata": {
        "id": "x7IrXtVvxyMo",
        "colab": {
          "base_uri": "https://localhost:8080/"
        },
        "outputId": "34b95988-6e0d-48b7-d510-8449618c9f00"
      },
      "execution_count": 19,
      "outputs": [
        {
          "output_type": "stream",
          "name": "stdout",
          "text": [
            "True\n",
            "False\n"
          ]
        }
      ]
    }
  ]
}