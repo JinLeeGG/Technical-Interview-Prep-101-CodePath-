{
  "nbformat": 4,
  "nbformat_minor": 0,
  "metadata": {
    "colab": {
      "provenance": [],
      "authorship_tag": "ABX9TyMx17TtzoK+++f/z+i+K/7y",
      "include_colab_link": true
    },
    "kernelspec": {
      "name": "python3",
      "display_name": "Python 3"
    },
    "language_info": {
      "name": "python"
    }
  },
  "cells": [
    {
      "cell_type": "markdown",
      "metadata": {
        "id": "view-in-github",
        "colab_type": "text"
      },
      "source": [
        "<a href=\"https://colab.research.google.com/github/JinLeeGG/Technical-Interview-Prep-101-CodePath-/blob/main/Unit1%20(Strings%20%26%20Arrays)/Unit_1_Practice.ipynb\" target=\"_parent\"><img src=\"https://colab.research.google.com/assets/colab-badge.svg\" alt=\"Open In Colab\"/></a>"
      ]
    },
    {
      "cell_type": "markdown",
      "source": [
        "# Built-In Functions\n",
        "## Print\n",
        "print(s) Prints the message s to the console.\n",
        "\n",
        "* Accepts one parameter s: the message you would like to print\n",
        "\n",
        "Example Usage:"
      ],
      "metadata": {
        "id": "5h8wmS_tTAO2"
      }
    },
    {
      "cell_type": "code",
      "source": [
        "print(\"Welcome to TIP102!\")\n",
        "print(100)\n",
        "\n",
        "s = \"Welcome to CodePath!\"\n",
        "num = 7\n",
        "print(s)\n",
        "print(num)\n",
        "\n",
        "lst = [\"TIP101\", \"TIP102\", \"TIP103\"]\n",
        "print(lst)\n",
        "\n",
        "x = 5\n",
        "y = 3\n",
        "print(x + y)"
      ],
      "metadata": {
        "colab": {
          "base_uri": "https://localhost:8080/"
        },
        "id": "DgZXX0eUTUmb",
        "outputId": "e5472cc7-8cdb-4958-d0f8-b4b023b23055"
      },
      "execution_count": 5,
      "outputs": [
        {
          "output_type": "stream",
          "name": "stdout",
          "text": [
            "Welcome to TIP102!\n",
            "100\n",
            "Welcome to CodePath!\n",
            "7\n",
            "['TIP101', 'TIP102', 'TIP103']\n",
            "8\n"
          ]
        }
      ]
    },
    {
      "cell_type": "markdown",
      "source": [
        "# Length\n",
        "len(s) Returns the length of a list or string. Try it\n",
        "* Accepts one parameter s: the list or string we would like to get the length of\n",
        "* Returns the number of items in a list or the number of characters in a string\n",
        "\n",
        "Example Usage:"
      ],
      "metadata": {
        "id": "hiudGD2ETwzJ"
      }
    },
    {
      "cell_type": "code",
      "source": [
        "# Example 1: Getting the length of a list\n",
        "lst = ['a', 'b', 'c']\n",
        "lst_length = len(lst)\n",
        "print(lst_length)\n",
        "\n",
        "# Example 2: Getting the length of string\n",
        "s = 'abcd'\n",
        "s_length = len(s)\n",
        "print(s_length)"
      ],
      "metadata": {
        "colab": {
          "base_uri": "https://localhost:8080/"
        },
        "id": "YHASWp-AT34A",
        "outputId": "207b69e0-d109-4566-df8e-b8d5ac3f7d25"
      },
      "execution_count": 6,
      "outputs": [
        {
          "output_type": "stream",
          "name": "stdout",
          "text": [
            "3\n",
            "4\n"
          ]
        }
      ]
    },
    {
      "cell_type": "markdown",
      "source": [
        "# Range\n",
        "range(start, stop, step) Returns a sequence of numbers. Try it\n",
        "\n",
        "* Accepts three parameters:\n",
        "  * start: the first number in the sequence, this is an optional parameter. If we do not provide a start, the range will start from 0.\n",
        "  * stop: the last value in the sequence exclusive, meaning that the stop value is not actually included in the sequence. This is a required parameter\n",
        "  * step: how much to increment each number in the sequence. If we do not provide a step, each successive number in the sequence will increment by 1.\n",
        "\n",
        "Example Usage:"
      ],
      "metadata": {
        "id": "LmngkIPnUFJk"
      }
    },
    {
      "cell_type": "code",
      "source": [
        "range(10)\n",
        "range(1, 11)\n",
        "range(0, 30, 5)"
      ],
      "metadata": {
        "colab": {
          "base_uri": "https://localhost:8080/"
        },
        "id": "EbuVhRBCUSO_",
        "outputId": "6a43b5e9-7871-4319-eba0-a822be83d2a3"
      },
      "execution_count": 17,
      "outputs": [
        {
          "output_type": "execute_result",
          "data": {
            "text/plain": [
              "range(0, 30, 5)"
            ]
          },
          "metadata": {},
          "execution_count": 17
        }
      ]
    },
    {
      "cell_type": "markdown",
      "source": [
        "# Sum\n",
        "sum(x) Returns the sum of all values in a list. Try it"
      ],
      "metadata": {
        "id": "DSoYxap9Uufg"
      }
    },
    {
      "cell_type": "code",
      "source": [
        "sum([1, 2, 3, 4]) # Evaluates to 10"
      ],
      "metadata": {
        "colab": {
          "base_uri": "https://localhost:8080/"
        },
        "id": "f5w7uYr3Uxr4",
        "outputId": "22570dcb-16ac-4df7-89f5-e33546817b00"
      },
      "execution_count": 18,
      "outputs": [
        {
          "output_type": "execute_result",
          "data": {
            "text/plain": [
              "10"
            ]
          },
          "metadata": {},
          "execution_count": 18
        }
      ]
    },
    {
      "cell_type": "markdown",
      "source": [
        "# Min\n",
        "min(x) Returns the argument with the lowest value or the item with the lowest value in a list."
      ],
      "metadata": {
        "id": "CPo3MwwMU1Yo"
      }
    },
    {
      "cell_type": "code",
      "source": [
        "min([2, 3, 4, 5, 6])"
      ],
      "metadata": {
        "colab": {
          "base_uri": "https://localhost:8080/"
        },
        "id": "mTBHlf7QU8Pl",
        "outputId": "a322b937-5813-4e24-b89c-edbe4b70768b"
      },
      "execution_count": 21,
      "outputs": [
        {
          "output_type": "execute_result",
          "data": {
            "text/plain": [
              "2"
            ]
          },
          "metadata": {},
          "execution_count": 21
        }
      ]
    },
    {
      "cell_type": "code",
      "source": [
        "min(4, 2, 3)"
      ],
      "metadata": {
        "colab": {
          "base_uri": "https://localhost:8080/"
        },
        "id": "vDnwskJaVU64",
        "outputId": "bf0d660f-00c2-41d2-a118-b47dd01bd497"
      },
      "execution_count": 22,
      "outputs": [
        {
          "output_type": "execute_result",
          "data": {
            "text/plain": [
              "2"
            ]
          },
          "metadata": {},
          "execution_count": 22
        }
      ]
    },
    {
      "cell_type": "code",
      "source": [
        "min(['a', 'b', 'cc', 'aa'])"
      ],
      "metadata": {
        "colab": {
          "base_uri": "https://localhost:8080/",
          "height": 35
        },
        "id": "VonuRiU8VWi1",
        "outputId": "c67ff0fe-e4d1-47d6-a011-c6eb2246bcd0"
      },
      "execution_count": 24,
      "outputs": [
        {
          "output_type": "execute_result",
          "data": {
            "text/plain": [
              "'a'"
            ],
            "application/vnd.google.colaboratory.intrinsic+json": {
              "type": "string"
            }
          },
          "metadata": {},
          "execution_count": 24
        }
      ]
    },
    {
      "cell_type": "markdown",
      "source": [
        "# Max\n",
        "max(x) Returns the argument with the highest value or the item with the highest value in a list. Try it"
      ],
      "metadata": {
        "id": "1AsnIByKU-D5"
      }
    },
    {
      "cell_type": "code",
      "source": [
        "max([2, 3, 4, 5,1])"
      ],
      "metadata": {
        "colab": {
          "base_uri": "https://localhost:8080/"
        },
        "id": "EyVBG-DMVKUF",
        "outputId": "91ba9898-7532-4ab6-8d2d-1d13b9edd301"
      },
      "execution_count": 25,
      "outputs": [
        {
          "output_type": "execute_result",
          "data": {
            "text/plain": [
              "5"
            ]
          },
          "metadata": {},
          "execution_count": 25
        }
      ]
    },
    {
      "cell_type": "code",
      "source": [
        "max(5, 2, 3)"
      ],
      "metadata": {
        "colab": {
          "base_uri": "https://localhost:8080/"
        },
        "id": "UBO192R9VsP4",
        "outputId": "244ce382-3083-4a08-f922-ce33836138f0"
      },
      "execution_count": 26,
      "outputs": [
        {
          "output_type": "execute_result",
          "data": {
            "text/plain": [
              "5"
            ]
          },
          "metadata": {},
          "execution_count": 26
        }
      ]
    },
    {
      "cell_type": "code",
      "source": [
        "max(['a', 'b', 'c', 'aa'])"
      ],
      "metadata": {
        "colab": {
          "base_uri": "https://localhost:8080/",
          "height": 35
        },
        "id": "5IBQnZh6VtuR",
        "outputId": "d946917b-1352-46de-81ff-1e995febe219"
      },
      "execution_count": 27,
      "outputs": [
        {
          "output_type": "execute_result",
          "data": {
            "text/plain": [
              "'c'"
            ],
            "application/vnd.google.colaboratory.intrinsic+json": {
              "type": "string"
            }
          },
          "metadata": {},
          "execution_count": 27
        }
      ]
    },
    {
      "cell_type": "markdown",
      "source": [
        "# List Methods & Syntax\n",
        "##Append Method\n",
        "lst.append(item) Adds an item to the end of the list. Try it\n",
        "\n",
        "* Accepts one parameter item: the item you would like to add to the list\n",
        "\n",
        "Example Usage:"
      ],
      "metadata": {
        "id": "N4pRMZPZVwga"
      }
    },
    {
      "cell_type": "code",
      "source": [
        "lst = [1, 2, 3, 4]\n",
        "lst.append(5)\n",
        "print(lst)"
      ],
      "metadata": {
        "colab": {
          "base_uri": "https://localhost:8080/"
        },
        "id": "t0tGjTFKV6Gx",
        "outputId": "933f7715-2a40-4277-fc09-7c434a3e3616"
      },
      "execution_count": 28,
      "outputs": [
        {
          "output_type": "stream",
          "name": "stdout",
          "text": [
            "[1, 2, 3, 4, 5]\n"
          ]
        }
      ]
    },
    {
      "cell_type": "markdown",
      "source": [
        "Sort Method\n",
        "lst.sort() Sorts the list in ascending order. Try it\n",
        "\n",
        "Does not have any required parameters\n",
        "Does not return any value\n",
        "Example Usage:"
      ],
      "metadata": {
        "id": "l8x-g5i2V924"
      }
    },
    {
      "cell_type": "markdown",
      "source": [
        "# Sort Method\n",
        "lst.sort() Sorts the list in ascending order. Try it\n",
        "\n",
        "* Does not have any required parameters\n",
        "* Does not return any value\n",
        "\n",
        "Example Usage:"
      ],
      "metadata": {
        "id": "T4sQ3pEGV_4v"
      }
    },
    {
      "cell_type": "code",
      "source": [
        "lst = [9, 4, 5, 2, 1, 8]\n",
        "lst.sort()\n",
        "print(lst)"
      ],
      "metadata": {
        "colab": {
          "base_uri": "https://localhost:8080/"
        },
        "id": "LZnUSNmeWEDP",
        "outputId": "6c9ff65c-b3f3-48d5-b3a1-1c0536817ea4"
      },
      "execution_count": 30,
      "outputs": [
        {
          "output_type": "stream",
          "name": "stdout",
          "text": [
            "[1, 2, 4, 5, 8, 9]\n"
          ]
        }
      ]
    },
    {
      "cell_type": "code",
      "source": [
        "lst = [\"b\", \"a\", \"c\", \"g\"]\n",
        "lst.sort()\n",
        "print(lst)"
      ],
      "metadata": {
        "colab": {
          "base_uri": "https://localhost:8080/"
        },
        "id": "RX9fVAzsWFTj",
        "outputId": "2303693e-bac9-4981-f94a-925e6b2f9b33"
      },
      "execution_count": 31,
      "outputs": [
        {
          "output_type": "stream",
          "name": "stdout",
          "text": [
            "['a', 'b', 'c', 'g']\n"
          ]
        }
      ]
    },
    {
      "cell_type": "markdown",
      "source": [
        "# String Methods & Syntax\n",
        "## Lower Method\n",
        "s.lower() Returns s as a lowercase string.Try it\n",
        "\n",
        "* Accepts no parameters\n",
        "* Returns a lowercase string.\n",
        "\n",
        "Example Usage:"
      ],
      "metadata": {
        "id": "818G99ceWQ5F"
      }
    },
    {
      "cell_type": "code",
      "source": [
        "s = \"Hello World!\"\n",
        "lowered = s.lower()\n",
        "print(lowered)"
      ],
      "metadata": {
        "colab": {
          "base_uri": "https://localhost:8080/"
        },
        "id": "xxrzwID-WXH4",
        "outputId": "b4f197b9-270d-4db0-e302-66109203ec3f"
      },
      "execution_count": 32,
      "outputs": [
        {
          "output_type": "stream",
          "name": "stdout",
          "text": [
            "hello world!\n"
          ]
        }
      ]
    },
    {
      "cell_type": "code",
      "source": [
        "s = \"HELLO WORLD!\"\n",
        "lowered = s.lower()\n",
        "print(lowered)"
      ],
      "metadata": {
        "colab": {
          "base_uri": "https://localhost:8080/"
        },
        "id": "WWCoba7xWcO3",
        "outputId": "29045658-566a-4adb-cae3-8bdcc3974a15"
      },
      "execution_count": 33,
      "outputs": [
        {
          "output_type": "stream",
          "name": "stdout",
          "text": [
            "hello world!\n"
          ]
        }
      ]
    },
    {
      "cell_type": "markdown",
      "source": [
        "# Split Method\n",
        "s.split(seperator) Splits the string into a list along whitespace or specified separator. Try it\n",
        "\n",
        "* s is the string to split\n",
        "* Accepts one parameter separator: The characters along which the string will be split. This is an optional parameter. By default, the string is split along any whitespace.\n",
        "* Returns a list of the substrings of s split by the specified separator.\n",
        "\n",
        "Example Usage:"
      ],
      "metadata": {
        "id": "vqQsc-6rW6Xq"
      }
    },
    {
      "cell_type": "code",
      "source": [
        "s = 'Never gonna give you up'\n",
        "split = s.split()\n",
        "print(split)"
      ],
      "metadata": {
        "colab": {
          "base_uri": "https://localhost:8080/"
        },
        "id": "nytPtRz7W_hi",
        "outputId": "b229bcc8-39c2-43e6-f2e9-1b3e950cd522"
      },
      "execution_count": 34,
      "outputs": [
        {
          "output_type": "stream",
          "name": "stdout",
          "text": [
            "['Never', 'gonna', 'give', 'you', 'up']\n"
          ]
        }
      ]
    },
    {
      "cell_type": "code",
      "source": [
        "s = 'Never-gonna-let-you-down'\n",
        "split = s.split(\"-\")\n",
        "print(split)"
      ],
      "metadata": {
        "colab": {
          "base_uri": "https://localhost:8080/"
        },
        "id": "JwNDhS8WXJD5",
        "outputId": "b4f9884c-8a37-47fd-b51d-b8861d6407fa"
      },
      "execution_count": 35,
      "outputs": [
        {
          "output_type": "stream",
          "name": "stdout",
          "text": [
            "['Never', 'gonna', 'let', 'you', 'down']\n"
          ]
        }
      ]
    },
    {
      "cell_type": "markdown",
      "source": [
        "# Join Method\n",
        "s.join(x) Turns an iterable x into a string using s as a separator between elements in x. Try it\n",
        "\n",
        "* s is the separator placed between items in the specified iterable\n",
        "* Accepts one parameter x: the iterable whose items will be joined together into a string. This is a required parameter.\n",
        "* Returns a string of the items in x separated by s\n",
        "Example Usage:"
      ],
      "metadata": {
        "id": "skmhiNMEXh9k"
      }
    },
    {
      "cell_type": "code",
      "source": [
        "# Example 1: Join items in a list separated by space\n",
        "lst = ['Never', 'gonna', 'run', 'around', 'and', 'desert', 'you']\n",
        "joined = ' '.join(lst)\n",
        "print(joined) # Prints 'Never gonna run around and desert you'\n",
        "\n",
        "# Example 2: Join items in a list separated by dash\n",
        "lst = ['Never', 'gonna', 'make', 'you', 'cry']\n",
        "joined = '-'.join(lst)\n",
        "print(joined) # Prints 'Never-gonna-make-you-cry'"
      ],
      "metadata": {
        "colab": {
          "base_uri": "https://localhost:8080/"
        },
        "id": "wHhWcGazXLQX",
        "outputId": "409f1e05-5d30-4439-ae8a-ae079d640793"
      },
      "execution_count": 36,
      "outputs": [
        {
          "output_type": "stream",
          "name": "stdout",
          "text": [
            "Never gonna run around and desert you\n",
            "Never-gonna-make-you-cry\n"
          ]
        }
      ]
    },
    {
      "cell_type": "markdown",
      "source": [
        "# Strip Method\n",
        "s.strip(characters) Removes whitespace or specified characters from either end of the string. Try it\n",
        "\n",
        "* s is the string to remove whitespace or characters from.\n",
        "* Accepts one parameter characters: the characters/substring to remove from either end of s. This is an optional parameter. If no value is specified, whitespace will be removed from the beginning and end of s.\n",
        "* Returns the string s with whitespace or characters removed.\n",
        "\n",
        "Example Usage:"
      ],
      "metadata": {
        "id": "peds2n3lXoRV"
      }
    },
    {
      "cell_type": "code",
      "source": [
        "s = '       Never gonna say goodbye       '\n",
        "stripped = s.strip()\n",
        "print(stripped)"
      ],
      "metadata": {
        "colab": {
          "base_uri": "https://localhost:8080/"
        },
        "id": "C8gXF1z0Xx2Q",
        "outputId": "f710b514-bf82-42b7-aa8e-68bd2babb3be"
      },
      "execution_count": 38,
      "outputs": [
        {
          "output_type": "stream",
          "name": "stdout",
          "text": [
            "Never gonna say goodbye\n"
          ]
        }
      ]
    },
    {
      "cell_type": "code",
      "source": [
        "s = '????Never gonna tell a lie and hurt you?????'\n",
        "stripped = s.strip('?')\n",
        "print(stripped)"
      ],
      "metadata": {
        "colab": {
          "base_uri": "https://localhost:8080/"
        },
        "id": "aTU0A-DlZK9M",
        "outputId": "6ba1402c-e50c-433c-efd0-ca64e52473c3"
      },
      "execution_count": 39,
      "outputs": [
        {
          "output_type": "stream",
          "name": "stdout",
          "text": [
            "Never gonna tell a lie and hurt you\n"
          ]
        }
      ]
    },
    {
      "cell_type": "markdown",
      "source": [
        "# Python Syntax\n",
        "## Variables\n",
        "In Python, variables do not need to be declared using a key word. We simply create variables by giving them a name and assigning a value to it.\n",
        "\n",
        "Variable names use snake case and should have underscores between words.\n",
        "\n",
        "Example Usage:"
      ],
      "metadata": {
        "id": "PDUVMLB4ZsUg"
      }
    },
    {
      "cell_type": "code",
      "source": [
        "# Example 1: Integer variable\n",
        "var1 = 10\n",
        "\n",
        "# Example 2: String Variable\n",
        "var2 = \"Codepath\"\n",
        "\n",
        "# Example 3: Boolean Variable\n",
        "my_boolean = True\n",
        "\n",
        "print(var1) # Prints 10\n",
        "print(var2) # Prints 'Codepath'\n",
        "print(my_boolean) # Prints True"
      ],
      "metadata": {
        "colab": {
          "base_uri": "https://localhost:8080/"
        },
        "id": "m-iS7WvTaDXe",
        "outputId": "2803698d-f269-486f-8c2a-3ad9d0c19573"
      },
      "execution_count": 40,
      "outputs": [
        {
          "output_type": "stream",
          "name": "stdout",
          "text": [
            "10\n",
            "Codepath\n",
            "True\n"
          ]
        }
      ]
    },
    {
      "cell_type": "code",
      "source": [
        "# Example: Changing x from an int to a string\n",
        "x = 10\n",
        "print(x) # Prints 10\n",
        "\n",
        "x = \"Hello\"\n",
        "print(x) # Prints 'Hello'"
      ],
      "metadata": {
        "colab": {
          "base_uri": "https://localhost:8080/"
        },
        "id": "TALaex36aFRQ",
        "outputId": "d9abd7b6-86c5-4220-fcfc-92d6ed09a217"
      },
      "execution_count": 41,
      "outputs": [
        {
          "output_type": "stream",
          "name": "stdout",
          "text": [
            "10\n",
            "Hello\n"
          ]
        }
      ]
    },
    {
      "cell_type": "markdown",
      "source": [
        "# Conditionals\n",
        "In Python, conditionals are defined using the if, elif and else keywords. The body of the conditional will execute if the expression placed after if or elif evaluates to True."
      ],
      "metadata": {
        "id": "uopZLr5haHhS"
      }
    },
    {
      "cell_type": "code",
      "source": [
        "# Example 1: Simple if statement\n",
        "x = 3\n",
        "if x > 1:\n",
        "  print(\"This line will execute!\")\n",
        "\n",
        "if x > 5:\n",
        "  print(\"This line will not execute!\")\n",
        "\n",
        "# Output: 'This line will execute!'\n",
        "\n",
        "# Example 2: If-Elif statement\n",
        "\n",
        "x = 10\n",
        "y = 20\n",
        "\n",
        "if x > y:\n",
        "  print(\"x is greater than y\")\n",
        "elif y > x:\n",
        "  print(\"y is greater than x\")\n",
        "\n",
        "# Output: 'y is greater than x'\n",
        "\n",
        "# Example 3: If-Elif-Else statement\n",
        "x = 20\n",
        "y = 20\n",
        "\n",
        "if x > y:\n",
        "  print(\"x is greater than y\")\n",
        "elif y > x:\n",
        "  print(\"y is greater than x\")\n",
        "else:\n",
        "  print(\"x and y are equal\")\n",
        "\n",
        "# Output: 'x and y are equal'"
      ],
      "metadata": {
        "colab": {
          "base_uri": "https://localhost:8080/"
        },
        "id": "CjxhYDfeaL3y",
        "outputId": "51daeaa8-7618-4943-987e-b42e6486b5f2"
      },
      "execution_count": 42,
      "outputs": [
        {
          "output_type": "stream",
          "name": "stdout",
          "text": [
            "This line will execute!\n",
            "y is greater than x\n",
            "x and y are equal\n"
          ]
        }
      ]
    },
    {
      "cell_type": "markdown",
      "source": [
        "# Functions\n",
        "In Python, functions are defined using the def keyword.\n"
      ],
      "metadata": {
        "id": "uwsQ5qE-aOFu"
      }
    },
    {
      "cell_type": "code",
      "source": [
        "# Example: Function that prints Hello world!\n",
        "def function_example():\n",
        "  print(\"Hello world!\")"
      ],
      "metadata": {
        "id": "LgkhC0traX7M"
      },
      "execution_count": 44,
      "outputs": []
    },
    {
      "cell_type": "code",
      "source": [
        "# Example: Calling a function\n",
        "function_example() # Prints 'Hello world!'"
      ],
      "metadata": {
        "colab": {
          "base_uri": "https://localhost:8080/"
        },
        "id": "0NQJTAKxaYTq",
        "outputId": "7054a03c-f019-4e49-9e7e-bcb7eb5efe46"
      },
      "execution_count": 45,
      "outputs": [
        {
          "output_type": "stream",
          "name": "stdout",
          "text": [
            "Hello world!\n"
          ]
        }
      ]
    },
    {
      "cell_type": "code",
      "source": [
        "# Example: Function with 2 parameters\n",
        "def function_w_parameters(parameter1, parameter2):\n",
        "  print(\"Parameter 1: \", parameter1)\n",
        "  print(\"Parameter 2: \", parameter2)\n",
        "\n",
        "function_w_parameters(\"Interview\", \"Prep\")\n",
        "# Output:\n",
        "# Parameter 1: Interview\n",
        "# Parameter 2: Prep"
      ],
      "metadata": {
        "colab": {
          "base_uri": "https://localhost:8080/"
        },
        "id": "ILTpULJraaRd",
        "outputId": "abee1f33-8547-4414-a3dc-ce805600f855"
      },
      "execution_count": 46,
      "outputs": [
        {
          "output_type": "stream",
          "name": "stdout",
          "text": [
            "Parameter 1:  Interview\n",
            "Parameter 2:  Prep\n"
          ]
        }
      ]
    },
    {
      "cell_type": "code",
      "source": [
        "# Example: Function that returns sum of two numbers\n",
        "def sum(a, b):\n",
        "  return a + b\n",
        "\n",
        "# Example: Function without a return value\n",
        "def sum_without_returning(a, b):\n",
        "  a + b\n",
        "\n",
        "return_val1 = sum(4, 2)\n",
        "return_val2 = sum_without_returning(4, 2)\n",
        "print(return_val1) # Output: 6\n",
        "print(return_val2) # Output: None"
      ],
      "metadata": {
        "colab": {
          "base_uri": "https://localhost:8080/"
        },
        "id": "Q554BJV2abvu",
        "outputId": "d5591cbd-dbe3-47c0-a5bd-e5e49a8651f1"
      },
      "execution_count": 47,
      "outputs": [
        {
          "output_type": "stream",
          "name": "stdout",
          "text": [
            "6\n",
            "None\n"
          ]
        }
      ]
    },
    {
      "cell_type": "markdown",
      "source": [
        "# Formatted Strings\n",
        "Formatted strings or f-strings allow us to insert variable expressions into Python strings.\n",
        "\n",
        "To create an f-string, place f before the quotation marks and add curly brackets around any variables we add to the string.\n",
        "\n",
        "Example Usage:"
      ],
      "metadata": {
        "id": "41EUKLRHadkb"
      }
    },
    {
      "cell_type": "code",
      "source": [
        "# Example 1: Adding a variable to a string\n",
        "name = \"Michael\"\n",
        "print(f\"Welcome to Codepath, {name}!\") # Prints 'Welcome to CodePath, Michael!'\n",
        "\n",
        "# Example 2: Adding an expression to a string\n",
        "a = 3\n",
        "b = 5\n",
        "print(f\"The sum of {a} and {b} is {a + b}\") # Prints 'The sum of 3 and 5 is 8'"
      ],
      "metadata": {
        "colab": {
          "base_uri": "https://localhost:8080/"
        },
        "id": "bfN9zXy9ahde",
        "outputId": "95cb3308-0b7e-4752-ad00-d4a1808a0cd8"
      },
      "execution_count": 48,
      "outputs": [
        {
          "output_type": "stream",
          "name": "stdout",
          "text": [
            "Welcome to Codepath, Michael!\n",
            "The sum of 3 and 5 is 8\n"
          ]
        }
      ]
    },
    {
      "cell_type": "markdown",
      "source": [
        "# Remainder Division\n",
        "The % operator is also known as the modulo operator and performs remainder division. x % y returns the remainder after dividing x by y. Try it\n",
        "\n",
        "Example Usage:"
      ],
      "metadata": {
        "id": "QP33CGxZaif3"
      }
    },
    {
      "cell_type": "code",
      "source": [
        "print(5 % 2) # Prints 1 because 5 / 2 = 2 remainder 1\n",
        "\n",
        "print(10 % 2) # Prints 0 because 10 / 2 = 5 remainder 0"
      ],
      "metadata": {
        "colab": {
          "base_uri": "https://localhost:8080/"
        },
        "id": "GMEg88Dfamy9",
        "outputId": "7a8fae94-47c9-47c7-825e-499e127a1981"
      },
      "execution_count": 50,
      "outputs": [
        {
          "output_type": "stream",
          "name": "stdout",
          "text": [
            "1\n",
            "0\n"
          ]
        }
      ]
    },
    {
      "cell_type": "markdown",
      "source": [
        "# For Loops\n",
        "for num in nums Iterates through every number in nums. Try it\n",
        "\n",
        "For loops in Python allow you to iterate over a sequence (such as a list, string, or range) and execute a block of code multiple times. This is particularly useful for accessing each element in a list or executing a function multiple times.\n",
        "\n",
        "Example Usage:"
      ],
      "metadata": {
        "id": "hWyyULWLan7g"
      }
    },
    {
      "cell_type": "code",
      "source": [
        "# Example 1: Iterating over a list\n",
        "fruits = [\"apple\", \"banana\", \"cherry\"]\n",
        "for fruit in fruits:\n",
        "    print(fruit)  # Outputs each fruit on a new line\n",
        "\n",
        "# Example 2: Using a for loop with a range\n",
        "for i in range(5):\n",
        "    print(i)  # Prints numbers 0 to 4"
      ],
      "metadata": {
        "colab": {
          "base_uri": "https://localhost:8080/"
        },
        "id": "efhcMwRMar6G",
        "outputId": "3ea66ff9-167e-4442-8cca-c7ee3c2c46cf"
      },
      "execution_count": 51,
      "outputs": [
        {
          "output_type": "stream",
          "name": "stdout",
          "text": [
            "apple\n",
            "banana\n",
            "cherry\n",
            "0\n",
            "1\n",
            "2\n",
            "3\n",
            "4\n"
          ]
        }
      ]
    },
    {
      "cell_type": "markdown",
      "source": [
        "# While Loops\n",
        "while condition Iterates while the condition evaluates to True\n",
        "\n",
        "While loops in Python allow you to repeat a block of code so long as a condition evaluates to True. This is particularly useful when the number of iterations we want to perform is not predetermined and depends on dynamic conditions.\n",
        "\n",
        "Example Usage:"
      ],
      "metadata": {
        "id": "J1-3AJzHatsA"
      }
    },
    {
      "cell_type": "code",
      "source": [
        "# Example 1: Indeterminate number of iterations\n",
        "# Prompting user for input until they enter a valid response\n",
        "user_input = \"\"\n",
        "while user_input != \"quit\":\n",
        "    user_input = input(\"Enter a command (type 'quit' to exit): \")\n",
        "print(\"You exited the loop.\")\n",
        "\n",
        "# Example 2: Processing data until a condition is met\n",
        "i = 1\n",
        "while i < 6:\n",
        "    print(i)\n",
        "    i += 1"
      ],
      "metadata": {
        "colab": {
          "base_uri": "https://localhost:8080/"
        },
        "id": "ADYOut4cb7Io",
        "outputId": "13b86ec9-6e68-474d-9298-2d7f9a42b4f9"
      },
      "execution_count": 52,
      "outputs": [
        {
          "output_type": "stream",
          "name": "stdout",
          "text": [
            "Enter a command (type 'quit' to exit): quit\n",
            "You exited the loop.\n",
            "1\n",
            "2\n",
            "3\n",
            "4\n",
            "5\n"
          ]
        }
      ]
    },
    {
      "cell_type": "markdown",
      "source": [
        "# Advanced Concepts"
      ],
      "metadata": {
        "id": "rCJfZCpTcPPp"
      }
    },
    {
      "cell_type": "markdown",
      "source": [
        "## Built-in Functions\n",
        "### Enumerate\n",
        "enumerate(x) takes an iterable such as a list, dictionary, or string, and adds a counter to the function. It is often used to loop over the indices and values of an iterable simultaneously.\n",
        "\n",
        "* Accepts two parameters:\n",
        "  * x: an iterable object such as a list, dictionary, or string. This is a required parameter.\n",
        "  * start: the value to start the counter at. This is an optional parameter. If no default value is specified, the counter will start at 0.\n",
        "* Returns a sequence of numbers coupled with values in given iterable\n",
        "Example Usage:"
      ],
      "metadata": {
        "id": "sPI7uG86cZ4x"
      }
    },
    {
      "cell_type": "code",
      "source": [
        "my_string = 'code'\n",
        "for index, char in enumerate(my_string):\n",
        "    print(index, char)"
      ],
      "metadata": {
        "colab": {
          "base_uri": "https://localhost:8080/"
        },
        "id": "ZPbE2NJfcmx-",
        "outputId": "b751e375-2cad-4f82-914a-5468b770330c"
      },
      "execution_count": 53,
      "outputs": [
        {
          "output_type": "stream",
          "name": "stdout",
          "text": [
            "0 c\n",
            "1 o\n",
            "2 d\n",
            "3 e\n"
          ]
        }
      ]
    },
    {
      "cell_type": "code",
      "source": [
        "cereals = ['cheerios', 'fruity pebbles', 'cocoa puffs']\n",
        "for count, cereal in enumerate(cereals, start = 1):\n",
        "    print(count, cereal)"
      ],
      "metadata": {
        "colab": {
          "base_uri": "https://localhost:8080/"
        },
        "id": "qQx3l3lkcvQR",
        "outputId": "747b1e3e-57cd-46a7-e007-392c269985d9"
      },
      "execution_count": 56,
      "outputs": [
        {
          "output_type": "stream",
          "name": "stdout",
          "text": [
            "1 cheerios\n",
            "2 fruity pebbles\n",
            "3 cocoa puffs\n"
          ]
        }
      ]
    },
    {
      "cell_type": "markdown",
      "source": [
        "# Zip\n",
        "zip(x, y) takes two or more iterables and returns a sequence of tuples where each the first item from each iterable forms the first tuple in the sequence, the second item from each iterable forms a second tuple, and so on. It continues until it has placed all elements in the shortest iterable into a function. Try it\n",
        "\n",
        "Zip is useful for iterating over multiple iterables in parallel or for combining data from separate iterables.\n",
        "\n",
        "* Accepts two or more parameters:\n",
        "  * x: an iterable object such as a list, dictionary, or string.\n",
        "  * y: an iterable object such as a list, dictionary, or string.\n",
        "  * Optionally accepts additional iterables to zip with x and y\n",
        "* Returns a sequence of tuples pairing x[i] with y[i] where 0 <= i <= min(len(x), len(y))"
      ],
      "metadata": {
        "id": "OqVxXHRKc7Wf"
      }
    },
    {
      "cell_type": "code",
      "source": [
        "names = ['Alice', 'Bob', 'Charlie']\n",
        "ages = [25, 30, 35]\n",
        "zipped = zip(names, ages)\n",
        "print(list(zipped))"
      ],
      "metadata": {
        "colab": {
          "base_uri": "https://localhost:8080/"
        },
        "id": "2IgAUxNjdJpA",
        "outputId": "c06ce8e7-a974-4484-e0df-8059963ee8e8"
      },
      "execution_count": 58,
      "outputs": [
        {
          "output_type": "stream",
          "name": "stdout",
          "text": [
            "[('Alice', 25), ('Bob', 30), ('Charlie', 35)]\n"
          ]
        }
      ]
    },
    {
      "cell_type": "markdown",
      "source": [
        "# Python Syntax\n",
        "## Nested Lists\n",
        "Lists and other data structures used to store multiple items in a single variable can be nested. This means that lists can store other lists.\n",
        "\n",
        "The container list is referred to as the outer list, while each list nested inside is referred to as an inner list.\n",
        "\n",
        "Example Usage:"
      ],
      "metadata": {
        "id": "j970jkgTdwy_"
      }
    },
    {
      "cell_type": "code",
      "source": [
        "# Simple List\n",
        "singers = [\"Sabrina Carpenter\", \"FKA Twigs\", \"Elliot Smith\"]\n",
        "\n",
        "# Nested List\n",
        "albums = [\n",
        "            [\"Sabrina Carpenter\", \"Short n' Sweet\"],\n",
        "            [\"FKA Twigs\", \"Magdalene\"],\n",
        "            [\"Elliot Smith\", \"Either/Or\"]]\n",
        "\n",
        "# Nested Lists Where Inner Lists Have Unequal Length\n",
        "numbers = [\n",
        "            [1],\n",
        "            [1, 2],\n",
        "            [1, 2, 3]]\n",
        "\n",
        "# Triply Nested List\n",
        "water_levels = [\"Shallow\", [\"Deep\", [\"Deeper\"]]]"
      ],
      "metadata": {
        "id": "qpX-OQh3d0uS"
      },
      "execution_count": 60,
      "outputs": []
    },
    {
      "cell_type": "code",
      "source": [
        "matrix = [\n",
        "            [1, 2, 3],\n",
        "            [4, 5, 6],\n",
        "            [7, 8, 9]]"
      ],
      "metadata": {
        "id": "Lqcf1N84d2YG"
      },
      "execution_count": 61,
      "outputs": []
    },
    {
      "cell_type": "code",
      "source": [
        "# Example 1: Retrieving Album Data\n",
        "albums = [\n",
        "            [\"Sabrina Carpenter\", \"Short n' Sweet\"],\n",
        "            [\"FKA Twigs\", \"Magdalene\"],\n",
        "            [\"Elliot Smith\", \"Either/Or\"]]\n",
        "\n",
        "first_album = albums[0]\n",
        "print(first_album) # Output: [\"Sabrina Carpenter\", \"Short n' Sweet\"]\n",
        "\n",
        "# Example 2: Updating a Row in a Matrix\n",
        "matrix = [\n",
        "            [1, 2, 3],\n",
        "            [4, 5, 6],\n",
        "            [7, 8, 9]]\n",
        "\n",
        "matrix[2] = [100, 200, 300]\n",
        "print(matrix) # Output: [[1, 2, 3], [4, 5, 6], [100, 200, 300]]"
      ],
      "metadata": {
        "colab": {
          "base_uri": "https://localhost:8080/"
        },
        "id": "RBKXB5CQd4oh",
        "outputId": "ad086697-982a-49b6-8358-4d08a395d90b"
      },
      "execution_count": 62,
      "outputs": [
        {
          "output_type": "stream",
          "name": "stdout",
          "text": [
            "['Sabrina Carpenter', \"Short n' Sweet\"]\n",
            "[[1, 2, 3], [4, 5, 6], [100, 200, 300]]\n"
          ]
        }
      ]
    },
    {
      "cell_type": "code",
      "source": [
        "# Example 1: Retrieving a Singer\n",
        "albums = [\n",
        "            [\"Sabrina Carpenter\", \"Short n' Sweet\"],\n",
        "            [\"FKA Twigs\", \"Magdalene\"],\n",
        "            [\"Elliot Smith\", \"Either/Or\"]]\n",
        "\n",
        "fka_twigs = albums[1][0]\n",
        "print(fka_twigs) # Output: FKA Twigs\n",
        "\n",
        "# Example 2: Updating a cell in a matrix\n",
        "matrix = [\n",
        "            [1, 2, 3],\n",
        "            [4, 5, 6],\n",
        "            [7, 8, 9]]\n",
        "matrix[1][1] = \"Surprise!\"\n",
        "print(matrix) # Output: [[1, 2, 3], [4, 'Suprise!', 6], [7, 8, 9]]"
      ],
      "metadata": {
        "colab": {
          "base_uri": "https://localhost:8080/"
        },
        "id": "CfJttk0ud74t",
        "outputId": "f156ae76-966a-4eb3-b19d-9619a4e3f06b"
      },
      "execution_count": 63,
      "outputs": [
        {
          "output_type": "stream",
          "name": "stdout",
          "text": [
            "FKA Twigs\n",
            "[[1, 2, 3], [4, 'Surprise!', 6], [7, 8, 9]]\n"
          ]
        }
      ]
    },
    {
      "cell_type": "markdown",
      "source": [
        "# Nested Loops\n",
        "Just as a nested list means a list within a list, a nested loop means a loop within a loop! They allow us to perform repeated actions within repeated actions.\n",
        "\n",
        "When we nest loops, the inner loop will run completely every time the outer loop runs once.\n",
        "\n",
        "Imagine the outer loop as the short hour hand of an analog clock, and the inner loop as the longer minute hand. The minute hand has to complete a full rotation around the clock before the hour hand increments once."
      ],
      "metadata": {
        "id": "PA8KTqsVd9hb"
      }
    },
    {
      "cell_type": "code",
      "source": [
        "for i in range(1, 4):\n",
        "  print(\"Outer loop incremented\")\n",
        "  for j in range(1, 4):\n",
        "    print(f\"i = {i}, j = {j}\")"
      ],
      "metadata": {
        "colab": {
          "base_uri": "https://localhost:8080/"
        },
        "id": "yuWFcYNIeCXQ",
        "outputId": "211d2001-fdf7-4bc1-e0d7-51ad994919ab"
      },
      "execution_count": 64,
      "outputs": [
        {
          "output_type": "stream",
          "name": "stdout",
          "text": [
            "Outer loop incremented\n",
            "i = 1, j = 1\n",
            "i = 1, j = 2\n",
            "i = 1, j = 3\n",
            "Outer loop incremented\n",
            "i = 2, j = 1\n",
            "i = 2, j = 2\n",
            "i = 2, j = 3\n",
            "Outer loop incremented\n",
            "i = 3, j = 1\n",
            "i = 3, j = 2\n",
            "i = 3, j = 3\n"
          ]
        }
      ]
    },
    {
      "cell_type": "code",
      "source": [
        "matrix = [\n",
        "    [1, 2, 3],\n",
        "    [4, 5, 6],\n",
        "    [7, 8, 9]\n",
        "]\n",
        "\n",
        "for row in matrix:\n",
        "  for item in row:\n",
        "    print(item, \" \")\n",
        "  print()"
      ],
      "metadata": {
        "colab": {
          "base_uri": "https://localhost:8080/"
        },
        "id": "6U-O1-6neTen",
        "outputId": "975a18c9-9845-41fb-fe4d-898f1927a312"
      },
      "execution_count": 65,
      "outputs": [
        {
          "output_type": "stream",
          "name": "stdout",
          "text": [
            "1  \n",
            "2  \n",
            "3  \n",
            "\n",
            "4  \n",
            "5  \n",
            "6  \n",
            "\n",
            "7  \n",
            "8  \n",
            "9  \n",
            "\n"
          ]
        }
      ]
    },
    {
      "cell_type": "code",
      "source": [
        "numbers = [3, 5, 2]\n",
        "\n",
        "# Outer for loop iterates over each number in the list\n",
        "for num in numbers:\n",
        "    print(f\"Counting down from {num}:\")\n",
        "\n",
        "    # Inner while loop counts down from the current number to 0\n",
        "    while num >= 0:\n",
        "        print(num)\n",
        "        num -= 1  # Decrement the number by 1 each time\n",
        "\n",
        "    print(\"---\")  # Separator to indicate moving to the next number\n"
      ],
      "metadata": {
        "colab": {
          "base_uri": "https://localhost:8080/"
        },
        "id": "v5F8vxLtedFZ",
        "outputId": "7b8c2fb8-e933-499b-bde6-84a5f2f0233d"
      },
      "execution_count": 66,
      "outputs": [
        {
          "output_type": "stream",
          "name": "stdout",
          "text": [
            "Counting down from 3:\n",
            "3\n",
            "2\n",
            "1\n",
            "0\n",
            "---\n",
            "Counting down from 5:\n",
            "5\n",
            "4\n",
            "3\n",
            "2\n",
            "1\n",
            "0\n",
            "---\n",
            "Counting down from 2:\n",
            "2\n",
            "1\n",
            "0\n",
            "---\n"
          ]
        }
      ]
    },
    {
      "cell_type": "markdown",
      "source": [
        "# List Comprehensions\n",
        "result_list = [expression for element in lst] evaluates an expression on each element in a list and stores the result of each evaluation in result_list. Try It\n",
        "\n",
        "List comprehensions are a shorthand syntax for creating a new list using values of an existing list.\n",
        "\n",
        "For example, say you want to double each value in a list. With a traditional for loop, you would to:\n",
        "\n",
        "1. Initialize a new list to hold the list\n",
        "2. Initialize a for loop\n",
        "3. Double each element and append it"
      ],
      "metadata": {
        "id": "uobeeYkbflHv"
      }
    },
    {
      "cell_type": "code",
      "source": [
        "nums = [1, 2, 3, 4, 5]\n",
        "doubled = []\n",
        "\n",
        "for num in nums:\n",
        "    doubled.append(num * 2)\n",
        "\n",
        "print(doubled) # Output: [2, 4, 6, 8, 10]"
      ],
      "metadata": {
        "colab": {
          "base_uri": "https://localhost:8080/"
        },
        "id": "5dzp7W6LfXmr",
        "outputId": "5d8ba30f-ca2c-4b1d-87c2-f5b8cfc58d11"
      },
      "execution_count": 67,
      "outputs": [
        {
          "output_type": "stream",
          "name": "stdout",
          "text": [
            "[2, 4, 6, 8, 10]\n"
          ]
        }
      ]
    },
    {
      "cell_type": "code",
      "source": [
        "nums = [1, 2, 3, 4, 5]\n",
        "doubled = [value * 2 for value in nums]\n",
        "print(nums) # Output: [2, 4, 6, 8, 10]"
      ],
      "metadata": {
        "colab": {
          "base_uri": "https://localhost:8080/"
        },
        "id": "FBqVkl_GfZH5",
        "outputId": "4f0f5b22-8503-4d4a-b579-44c6706df169"
      },
      "execution_count": 68,
      "outputs": [
        {
          "output_type": "stream",
          "name": "stdout",
          "text": [
            "[1, 2, 3, 4, 5]\n"
          ]
        }
      ]
    },
    {
      "cell_type": "code",
      "source": [
        "words = [\"I\", \"Love\", \"Codepath!\"]\n",
        "result = []\n",
        "\n",
        "for word in words:\n",
        "    if len(word) > 5:\n",
        "        result.append(word)\n",
        "\n",
        "print(result) # Output: ['Codepath!']"
      ],
      "metadata": {
        "colab": {
          "base_uri": "https://localhost:8080/"
        },
        "id": "2rXx5iDwfaxL",
        "outputId": "e6f385ec-9cd1-4585-a853-c7b976ce64d2"
      },
      "execution_count": 69,
      "outputs": [
        {
          "output_type": "stream",
          "name": "stdout",
          "text": [
            "['Codepath!']\n"
          ]
        }
      ]
    },
    {
      "cell_type": "code",
      "source": [
        "words = [\"I\", \"Love\", \"Codepath!\"]\n",
        "result = [word for word in words if len(word) > 5]\n",
        "print(result) # Output: ['Codepath!']"
      ],
      "metadata": {
        "colab": {
          "base_uri": "https://localhost:8080/"
        },
        "id": "cSWx29CHfqaM",
        "outputId": "d8b39086-3700-407a-d3d8-629a46b0cb0a"
      },
      "execution_count": 70,
      "outputs": [
        {
          "output_type": "stream",
          "name": "stdout",
          "text": [
            "['Codepath!']\n"
          ]
        }
      ]
    },
    {
      "cell_type": "markdown",
      "source": [
        "# Two Pointer Technique\n",
        "The two-pointer approach is a common technique in which we initialize two pointer variables to track different indices or places in a list or string and move them to new indices based on certain conditions.\n",
        "\n",
        "\n",
        "## Opposite Direction Pointers\n",
        "In the most common variation of the two-pointer approach, we initialize one variable to point at the beginning of a list and a second variable/pointer to point at the end of list. We then shift the pointers to move inwards through the list towards each other, until our problem is solved or the pointers reach the opposite ends of the list.\n",
        "\n",
        "Beginning and End Variation of 2-pointer\n",
        "\n",
        "In the above case, pointer1 = 0 and pointer2 = 5. Let's say we wanted to reverse the integer list. The two pointers would allow us to swap the values at each pointer and then move inwards to continue swapping. The next iteration would have pointer1 = 1 and pointer2 = 4 to swap those values.\n",
        "\n",
        "Swapped 2-pointer\n",
        "\n",
        "After those values are swapped, the next iteration would have pointer1 = 2 and pointer2 = 3 to swap those values.\n",
        "\n",
        "Last Swap 2-pointer\n",
        "\n",
        "Finally, we know to stop once pointer1 == pointer2 (they are at the same index, mostly when the length of the list or string is odd) or when pointer1 > pointer2 (the pointers have intersected, and pointer1 is past pointer2).\n",
        "\n",
        "The end result has the integer list completely reversed:\n",
        "\n",
        "Final Swapped 2-pointer"
      ],
      "metadata": {
        "id": "ajBwTuQZftGP"
      }
    },
    {
      "cell_type": "code",
      "source": [
        "left_pointer = 0\n",
        "right_pointer = len(word) - 1\n",
        "while left_pointer < right_pointer:\n",
        "    pass\n",
        "    left_pointer += 1\n",
        "    right_pointer -= 1"
      ],
      "metadata": {
        "id": "QEGMQ0rlgxQx"
      },
      "execution_count": 71,
      "outputs": []
    },
    {
      "cell_type": "code",
      "source": [
        "    nums1_pointer = 0\n",
        "    nums2_pointer = 0\n",
        "\n",
        "    while nums1_pointer < len(nums1) and nums2_pointer < len(nums2):\n",
        "        # <if conditional>\n",
        "            # <operation>\n",
        "            nums1_pointer += 1\n",
        "        else:\n",
        "            # <operation>\n",
        "            nums2_pointer += 1"
      ],
      "metadata": {
        "colab": {
          "base_uri": "https://localhost:8080/",
          "height": 106
        },
        "id": "xfJjFe3pgz89",
        "outputId": "4f88b289-46bc-4d75-c728-d05414c03475"
      },
      "execution_count": 73,
      "outputs": [
        {
          "output_type": "error",
          "ename": "IndentationError",
          "evalue": "unindent does not match any outer indentation level (<tokenize>, line 8)",
          "traceback": [
            "\u001b[0;36m  File \u001b[0;32m\"<tokenize>\"\u001b[0;36m, line \u001b[0;32m8\u001b[0m\n\u001b[0;31m    else:\u001b[0m\n\u001b[0m    ^\u001b[0m\n\u001b[0;31mIndentationError\u001b[0m\u001b[0;31m:\u001b[0m unindent does not match any outer indentation level\n"
          ]
        }
      ]
    }
  ]
}