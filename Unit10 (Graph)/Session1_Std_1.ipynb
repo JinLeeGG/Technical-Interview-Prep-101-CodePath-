{
  "nbformat": 4,
  "nbformat_minor": 0,
  "metadata": {
    "colab": {
      "provenance": [],
      "authorship_tag": "ABX9TyOCzp3eCKmTOyg4UgxlN82m",
      "include_colab_link": true
    },
    "kernelspec": {
      "name": "python3",
      "display_name": "Python 3"
    },
    "language_info": {
      "name": "python"
    }
  },
  "cells": [
    {
      "cell_type": "markdown",
      "metadata": {
        "id": "view-in-github",
        "colab_type": "text"
      },
      "source": [
        "<a href=\"https://colab.research.google.com/github/JinLeeGG/Technical_Interview_Prep102_CodePath/blob/main/Unit10%20(Graph)/Session1_Std_1.ipynb\" target=\"_parent\"><img src=\"https://colab.research.google.com/assets/colab-badge.svg\" alt=\"Open In Colab\"/></a>"
      ]
    },
    {
      "cell_type": "markdown",
      "source": [
        "# Pb 1"
      ],
      "metadata": {
        "id": "DrI_XzNrxxIm"
      }
    },
    {
      "cell_type": "code",
      "execution_count": 1,
      "metadata": {
        "colab": {
          "base_uri": "https://localhost:8080/"
        },
        "id": "VxhAJ3L3vxOa",
        "outputId": "c6dfa01b-19ce-4138-fab4-0f0d31ce9b6c"
      },
      "outputs": [
        {
          "output_type": "stream",
          "name": "stdout",
          "text": [
            "['JFK', 'LAX', 'DFW', 'ATL']\n",
            "[['LAX', 'DFW'], ['JFK'], ['JFK', 'ATL'], ['DFW']]\n",
            "['LAX', 'DFW']\n"
          ]
        }
      ],
      "source": [
        "# 각 공항을 키(key)로, 해당 공항에서 직항으로 갈 수 있는\n",
        "# 공항들의 리스트를 값(value)으로 갖는 딕셔너리를 생성합니다.\n",
        "flights = {\n",
        "    \"JFK\": [\"LAX\", \"DFW\"],\n",
        "    \"LAX\": [\"JFK\"],\n",
        "    \"DFW\": [\"JFK\", \"ATL\"],\n",
        "    \"ATL\": [\"DFW\"]\n",
        "}\n",
        "\n",
        "# --- 예제 코드 실행 결과 ---\n",
        "\n",
        "# 1. 딕셔너리의 모든 키(공항) 출력\n",
        "print(list(flights.keys()))\n",
        "# 예상 출력: ['JFK', 'LAX', 'DFW', 'ATL']\n",
        "\n",
        "# 2. 딕셔너리의 모든 값(연결된 공항 리스트) 출력\n",
        "print(list(flights.values()))\n",
        "# 예상 출력: [['LAX', 'DFW'], ['JFK'], ['JFK', 'ATL'], ['DFW']]\n",
        "\n",
        "# 3. 'JFK' 공항과 직접 연결된 모든 공항 출력\n",
        "print(flights[\"JFK\"])\n",
        "# 예상 출력: ['LAX', 'DFW']"
      ]
    },
    {
      "cell_type": "markdown",
      "source": [
        "# Pb 2"
      ],
      "metadata": {
        "id": "TXGF8V-gxztu"
      }
    },
    {
      "cell_type": "code",
      "source": [
        "def bidirectional_flights(flights):\n",
        "  \"\"\"\n",
        "  Checks if a flight graph is bidirectional.\n",
        "\n",
        "  Args:\n",
        "    flights: A 0-indexed adjacency list where flights[i] contains a list of\n",
        "             destinations reachable from destination i.\n",
        "\n",
        "  Returns:\n",
        "    True if for every flight i -> j, a flight j -> i exists. False otherwise.\n",
        "  \"\"\"\n",
        "  # Iterate through each origin airport, represented by its index 'i'.\n",
        "  for i in range(len(flights)):\n",
        "    # For each origin 'i', look at every destination 'j' it flies to.\n",
        "    for j in flights[i]:\n",
        "      # We have a flight from i -> j.\n",
        "      # Now, we must check if a return flight from j -> i exists.\n",
        "      # This means we check if 'i' is in the list of destinations from 'j' (i.e., flights[j]).\n",
        "      if i not in flights[j]:\n",
        "        # If 'i' is not in the list of destinations from 'j', we've found a one-way flight.\n",
        "        # The graph is not bidirectional, so we can stop and return False immediately.\n",
        "        return False\n",
        "\n",
        "  # If the loops complete without finding any one-way flights,\n",
        "  # it means every flight is paired. The graph is bidirectional.\n",
        "  return True\n",
        "\n",
        "# --- Example Usage ---\n",
        "\n",
        "# Example 1: A bidirectional graph\n",
        "flights1 = [[1, 2], [0], [0, 3], [2]]\n",
        "print(f\"Is flights1 bidirectional? {bidirectional_flights(flights1)}\")\n",
        "\n",
        "# Example 2: A non-bidirectional graph\n",
        "flights2 = [[1, 2], [], [0], [2]]\n",
        "print(f\"Is flights2 bidirectional? {bidirectional_flights(flights2)}\")\n",
        "\n",
        "flights1 = [[1, 2], [0], [0, 3], [2]]\n",
        "flights2 = [[1, 2], [], [0], [2]]"
      ],
      "metadata": {
        "colab": {
          "base_uri": "https://localhost:8080/"
        },
        "id": "s41L0BOzx40G",
        "outputId": "0c480252-3dce-4c91-902b-ff9635681c26"
      },
      "execution_count": 3,
      "outputs": [
        {
          "output_type": "stream",
          "name": "stdout",
          "text": [
            "Is flights1 bidirectional? True\n",
            "Is flights2 bidirectional? False\n"
          ]
        }
      ]
    },
    {
      "cell_type": "markdown",
      "source": [
        "# Pb3"
      ],
      "metadata": {
        "id": "jNWagnzbyWzI"
      }
    },
    {
      "cell_type": "code",
      "source": [
        "def get_direct_flights(flights, source):\n",
        "  \"\"\"\n",
        "  Finds all direct flight destinations from a source airport using an adjacency matrix.\n",
        "\n",
        "  Args:\n",
        "    flights: An n x n adjacency matrix where flights[i][j] = 1 indicates a flight\n",
        "             from i to j.\n",
        "    source: An integer representing the source destination.\n",
        "\n",
        "  Returns:\n",
        "    A list of all destinations reachable on a direct flight from the source.\n",
        "  \"\"\"\n",
        "  direct_destinations = []\n",
        "\n",
        "  # The list of flights from the source is the 'source'-th row in the matrix.\n",
        "  source_flights_row = flights[source]\n",
        "\n",
        "  # Iterate through the source's flight row. The index of the row\n",
        "  # represents a potential destination airport.\n",
        "  for destination, has_flight in enumerate(source_flights_row):\n",
        "    # If the value is 1, it means a direct flight exists to that destination.\n",
        "    if has_flight == 1:\n",
        "      direct_destinations.append(destination)\n",
        "\n",
        "  return direct_destinations\n",
        "\n",
        "# --- Example Usage ---\n",
        "\n",
        "flights = [\n",
        "  [0, 1, 1, 0],\n",
        "  [1, 0, 0, 0],\n",
        "  [1, 1, 0, 1],\n",
        "  [0, 0, 0, 0]\n",
        "]\n",
        "\n",
        "# Get direct flights from source airport 2\n",
        "print(get_direct_flights(flights, 2))\n",
        "\n",
        "# Get direct flights from source airport 3\n",
        "print(get_direct_flights(flights, 3))"
      ],
      "metadata": {
        "colab": {
          "base_uri": "https://localhost:8080/"
        },
        "id": "KhWJvIFeyXzP",
        "outputId": "0bc5e6cb-0dee-4b13-9ce3-43c8420adeb2"
      },
      "execution_count": 4,
      "outputs": [
        {
          "output_type": "stream",
          "name": "stdout",
          "text": [
            "[0, 1, 3]\n",
            "[]\n"
          ]
        }
      ]
    },
    {
      "cell_type": "markdown",
      "source": [
        "# Pb 4"
      ],
      "metadata": {
        "id": "3XnV7ASxzedK"
      }
    },
    {
      "cell_type": "code",
      "source": [
        "def get_adj_dict(flights):\n",
        "  \"\"\"\n",
        "  Converts a list of flight edges into an adjacency dictionary\n",
        "  without using the setdefault() method.\n",
        "\n",
        "  Args:\n",
        "    flights: A list of pairs, where each pair represents a bidirectional\n",
        "             flight between two cities.\n",
        "\n",
        "  Returns:\n",
        "    An adjacency dictionary representing the flight graph.\n",
        "  \"\"\"\n",
        "  adj_dict = {}\n",
        "\n",
        "  # Deconstruct each pair into city_a and city_b\n",
        "  for city_a, city_b in flights:\n",
        "\n",
        "    # --- Handle the connection from city_a to city_b ---\n",
        "    if city_a in adj_dict:\n",
        "      # If the city is already a key, append the neighbor to its list.\n",
        "      adj_dict[city_a].append(city_b)\n",
        "    else:\n",
        "      # If the city is not yet a key, create it with a new list\n",
        "      # containing the neighbor.\n",
        "      adj_dict[city_a] = [city_b]\n",
        "\n",
        "    # --- Handle the return flight from city_b to city_a ---\n",
        "    if city_b in adj_dict:\n",
        "      adj_dict[city_b].append(city_a)\n",
        "    else:\n",
        "      adj_dict[city_b] = [city_a]\n",
        "\n",
        "  return adj_dict\n",
        "\n",
        "# --- Example Usage ---\n",
        "\n",
        "flights = [\n",
        "    ['Cape Town', 'Addis Ababa'],\n",
        "    ['Cairo', 'Lagos'],\n",
        "    ['Lagos', 'Addis Ababa'],\n",
        "    ['Nairobi', 'Cairo'],\n",
        "    ['Cairo', 'Cape Town']\n",
        "]\n",
        "\n",
        "# The pprint module helps print dictionaries in a more readable way\n",
        "import pprint\n",
        "pprint.pprint(get_adj_dict(flights))"
      ],
      "metadata": {
        "colab": {
          "base_uri": "https://localhost:8080/"
        },
        "id": "7oC2z5M5zpts",
        "outputId": "a715998a-bbd1-4fca-b2e9-9146c5faa2a9"
      },
      "execution_count": 6,
      "outputs": [
        {
          "output_type": "stream",
          "name": "stdout",
          "text": [
            "{'Addis Ababa': ['Cape Town', 'Lagos'],\n",
            " 'Cairo': ['Lagos', 'Nairobi', 'Cape Town'],\n",
            " 'Cape Town': ['Addis Ababa', 'Cairo'],\n",
            " 'Lagos': ['Cairo', 'Addis Ababa'],\n",
            " 'Nairobi': ['Cairo']}\n"
          ]
        }
      ]
    },
    {
      "cell_type": "markdown",
      "source": [
        "# pb 5"
      ],
      "metadata": {
        "id": "cIvp4g7P0Ko_"
      }
    },
    {
      "cell_type": "code",
      "source": [
        "def find_center(terminals):\n",
        "  \"\"\"\n",
        "  Finds the center node in a star graph.\n",
        "\n",
        "  Args:\n",
        "    terminals: A 2D integer array where each element is an edge [u, v].\n",
        "\n",
        "  Returns:\n",
        "    The integer label of the center terminal.\n",
        "  \"\"\"\n",
        "  # The center node must be common to the first two edges.\n",
        "  # We check if the first node of the first edge is also in the second edge.\n",
        "  if terminals[0][0] in terminals[1]:\n",
        "    # If it is, it must be the center.\n",
        "    return terminals[0][0]\n",
        "  else:\n",
        "    # If not, the other node from the first edge must be the center.\n",
        "    return terminals[0][1]\n",
        "\n",
        "# --- Example Usage ---\n",
        "\n",
        "terminals1 = [[1,2],[2,3],[4,2]]\n",
        "terminals2 = [[1,2],[5,1],[1,3],[1,4]]\n",
        "\n",
        "print(find_center(terminals1))\n",
        "print(find_center(terminals2))"
      ],
      "metadata": {
        "colab": {
          "base_uri": "https://localhost:8080/"
        },
        "id": "erbgQcID0QZn",
        "outputId": "c6a3f28b-7570-4734-cee3-41a71edbcc3c"
      },
      "execution_count": 7,
      "outputs": [
        {
          "output_type": "stream",
          "name": "stdout",
          "text": [
            "2\n",
            "1\n"
          ]
        }
      ]
    },
    {
      "cell_type": "markdown",
      "source": [
        "# Pb 6"
      ],
      "metadata": {
        "id": "GjKL-NWY0jiY"
      }
    },
    {
      "cell_type": "code",
      "source": [
        "from collections import deque\n",
        "\n",
        "def get_all_destinations(flights, start):\n",
        "  \"\"\"\n",
        "  Finds all reachable destinations from a starting airport using Breadth-First Search.\n",
        "\n",
        "  Args:\n",
        "    flights: An adjacency dictionary of flight connections.\n",
        "    start: The starting airport.\n",
        "\n",
        "  Returns:\n",
        "    A list of all reachable destinations, ordered by the number of layovers.\n",
        "  \"\"\"\n",
        "  # A queue to manage which airports to visit next. We use deque for efficiency.\n",
        "  queue = deque([start])\n",
        "\n",
        "  # A set to keep track of airports we've already visited to avoid cycles\n",
        "  # and redundant work.\n",
        "  visited = {start}\n",
        "\n",
        "  # The final list of destinations in the order they are reached.\n",
        "  reachable = []\n",
        "\n",
        "  while queue:\n",
        "    # Take the next airport from the front of the queue.\n",
        "    current_airport = queue.popleft()\n",
        "    reachable.append(current_airport)\n",
        "\n",
        "    # Look up all direct flights from the current airport.\n",
        "    for neighbor in flights[current_airport]:\n",
        "      # If we haven't visited this neighboring airport yet...\n",
        "      if neighbor not in visited:\n",
        "        # ...mark it as visited...\n",
        "        visited.add(neighbor)\n",
        "        # ...and add it to the back of the queue to visit later.\n",
        "        queue.append(neighbor)\n",
        "\n",
        "  return reachable\n",
        "\n",
        "# --- Example Usage ---\n",
        "\n",
        "flights = {\n",
        "    \"Tokyo\": [\"Sydney\"],\n",
        "    \"Sydney\": [\"Tokyo\", \"Beijing\"],\n",
        "    \"Beijing\": [\"Sydney\", \"Mexico City\", \"Helsinki\"],\n",
        "    \"Cairo\": [\"Helsinki\", \"Reykjavik\"],\n",
        "    \"Reykjavik\": [\"Cairo\", \"New York\"],\n",
        "    \"Helsinki\": [\"Beijing\", \"Cairo\", \"New York\"],\n",
        "    \"Mexico City\": [\"Sydney\"],\n",
        "    \"New York\": []\n",
        "}\n",
        "\n",
        "print(get_all_destinations(flights, \"Beijing\"))\n",
        "print(get_all_destinations(flights, \"Helsinki\"))"
      ],
      "metadata": {
        "colab": {
          "base_uri": "https://localhost:8080/"
        },
        "id": "JTxt8mH_0p3d",
        "outputId": "d0595fa2-0eab-43c5-c053-62302e8dcb1a"
      },
      "execution_count": 8,
      "outputs": [
        {
          "output_type": "stream",
          "name": "stdout",
          "text": [
            "['Beijing', 'Sydney', 'Mexico City', 'Helsinki', 'Tokyo', 'Cairo', 'New York', 'Reykjavik']\n",
            "['Helsinki', 'Beijing', 'Cairo', 'New York', 'Sydney', 'Mexico City', 'Reykjavik', 'Tokyo']\n"
          ]
        }
      ]
    }
  ]
}