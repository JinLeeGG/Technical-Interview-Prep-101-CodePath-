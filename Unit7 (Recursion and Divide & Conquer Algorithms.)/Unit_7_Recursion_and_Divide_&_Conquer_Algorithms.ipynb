{
  "nbformat": 4,
  "nbformat_minor": 0,
  "metadata": {
    "colab": {
      "provenance": [],
      "authorship_tag": "ABX9TyOMBqDr847pYBktwTTwXwOD",
      "include_colab_link": true
    },
    "kernelspec": {
      "name": "python3",
      "display_name": "Python 3"
    },
    "language_info": {
      "name": "python"
    }
  },
  "cells": [
    {
      "cell_type": "markdown",
      "metadata": {
        "id": "view-in-github",
        "colab_type": "text"
      },
      "source": [
        "<a href=\"https://colab.research.google.com/github/JinLeeGG/Technical_Interview_Prep102_CodePath/blob/main/Unit7%20(Recursion%20and%20Divide%20%26%20Conquer%20Algorithms.)/Unit_7_Recursion_and_Divide_%26_Conquer_Algorithms.ipynb\" target=\"_parent\"><img src=\"https://colab.research.google.com/assets/colab-badge.svg\" alt=\"Open In Colab\"/></a>"
      ]
    },
    {
      "cell_type": "code",
      "execution_count": null,
      "metadata": {
        "colab": {
          "base_uri": "https://localhost:8080/",
          "height": 1000
        },
        "collapsed": true,
        "id": "ay4r7PZbFhIX",
        "outputId": "98765917-826b-48c0-9446-3d2f004bb774"
      },
      "outputs": [
        {
          "output_type": "stream",
          "name": "stdout",
          "text": [
            "I will run forever\n",
            "I will run forever\n",
            "I will run forever\n",
            "I will run forever\n",
            "I will run forever\n",
            "I will run forever\n",
            "I will run forever\n",
            "I will run forever\n",
            "I will run forever\n",
            "I will run forever\n",
            "I will run forever\n",
            "I will run forever\n",
            "I will run forever\n",
            "I will run forever\n",
            "I will run forever\n",
            "I will run forever\n",
            "I will run forever\n",
            "I will run forever\n",
            "I will run forever\n",
            "I will run forever\n",
            "I will run forever\n",
            "I will run forever\n",
            "I will run forever\n",
            "I will run forever\n",
            "I will run forever\n",
            "I will run forever\n",
            "I will run forever\n",
            "I will run forever\n",
            "I will run forever\n",
            "I will run forever\n",
            "I will run forever\n",
            "I will run forever\n",
            "I will run forever\n",
            "I will run forever\n",
            "I will run forever\n",
            "I will run forever\n",
            "I will run forever\n",
            "I will run forever\n",
            "I will run forever\n",
            "I will run forever\n",
            "I will run forever\n",
            "I will run forever\n",
            "I will run forever\n",
            "I will run forever\n",
            "I will run forever\n",
            "I will run forever\n",
            "I will run forever\n",
            "I will run forever\n",
            "I will run forever\n",
            "I will run forever\n",
            "I will run forever\n",
            "I will run forever\n",
            "I will run forever\n",
            "I will run forever\n",
            "I will run forever\n",
            "I will run forever\n",
            "I will run forever\n",
            "I will run forever\n",
            "I will run forever\n",
            "I will run forever\n",
            "I will run forever\n",
            "I will run forever\n",
            "I will run forever\n",
            "I will run forever\n",
            "I will run forever\n",
            "I will run forever\n",
            "I will run forever\n",
            "I will run forever\n",
            "I will run forever\n",
            "I will run forever\n",
            "I will run forever\n",
            "I will run forever\n",
            "I will run forever\n",
            "I will run forever\n",
            "I will run forever\n",
            "I will run forever\n",
            "I will run forever\n",
            "I will run forever\n",
            "I will run forever\n",
            "I will run forever\n",
            "I will run forever\n",
            "I will run forever\n",
            "I will run forever\n",
            "I will run forever\n",
            "I will run forever\n",
            "I will run forever\n",
            "I will run forever\n",
            "I will run forever\n",
            "I will run forever\n",
            "I will run forever\n",
            "I will run forever\n",
            "I will run forever\n",
            "I will run forever\n",
            "I will run forever\n",
            "I will run forever\n",
            "I will run forever\n",
            "I will run forever\n",
            "I will run forever\n",
            "I will run forever\n",
            "I will run forever\n",
            "I will run forever\n",
            "I will run forever\n",
            "I will run forever\n",
            "I will run forever\n",
            "I will run forever\n",
            "I will run forever\n",
            "I will run forever\n",
            "I will run forever\n",
            "I will run forever\n",
            "I will run forever\n",
            "I will run forever\n",
            "I will run forever\n",
            "I will run forever\n",
            "I will run forever\n",
            "I will run forever\n",
            "I will run forever\n",
            "I will run forever\n",
            "I will run forever\n",
            "I will run forever\n",
            "I will run forever\n",
            "I will run forever\n",
            "I will run forever\n",
            "I will run forever\n",
            "I will run forever\n",
            "I will run forever\n",
            "I will run forever\n",
            "I will run forever\n",
            "I will run forever\n",
            "I will run forever\n",
            "I will run forever\n",
            "I will run forever\n",
            "I will run forever\n",
            "I will run forever\n",
            "I will run forever\n",
            "I will run forever\n",
            "I will run forever\n",
            "I will run forever\n",
            "I will run forever\n",
            "I will run forever\n",
            "I will run forever\n",
            "I will run forever\n",
            "I will run forever\n",
            "I will run forever\n",
            "I will run forever\n",
            "I will run forever\n",
            "I will run forever\n",
            "I will run forever\n",
            "I will run forever\n",
            "I will run forever\n",
            "I will run forever\n",
            "I will run forever\n",
            "I will run forever\n",
            "I will run forever\n",
            "I will run forever\n",
            "I will run forever\n",
            "I will run forever\n",
            "I will run forever\n",
            "I will run forever\n",
            "I will run forever\n",
            "I will run forever\n",
            "I will run forever\n",
            "I will run forever\n",
            "I will run forever\n",
            "I will run forever\n",
            "I will run forever\n",
            "I will run forever\n",
            "I will run forever\n",
            "I will run forever\n",
            "I will run forever\n",
            "I will run forever\n",
            "I will run forever\n",
            "I will run forever\n",
            "I will run forever\n",
            "I will run forever\n",
            "I will run forever\n",
            "I will run forever\n",
            "I will run forever\n",
            "I will run forever\n",
            "I will run forever\n",
            "I will run forever\n",
            "I will run forever\n",
            "I will run forever\n",
            "I will run forever\n",
            "I will run forever\n",
            "I will run forever\n",
            "I will run forever\n",
            "I will run forever\n",
            "I will run forever\n",
            "I will run forever\n",
            "I will run forever\n",
            "I will run forever\n",
            "I will run forever\n",
            "I will run forever\n",
            "I will run forever\n",
            "I will run forever\n",
            "I will run forever\n",
            "I will run forever\n",
            "I will run forever\n",
            "I will run forever\n",
            "I will run forever\n",
            "I will run forever\n",
            "I will run forever\n",
            "I will run forever\n",
            "I will run forever\n",
            "I will run forever\n",
            "I will run forever\n",
            "I will run forever\n",
            "I will run forever\n",
            "I will run forever\n",
            "I will run forever\n",
            "I will run forever\n",
            "I will run forever\n",
            "I will run forever\n",
            "I will run forever\n",
            "I will run forever\n",
            "I will run forever\n",
            "I will run forever\n",
            "I will run forever\n",
            "I will run forever\n",
            "I will run forever\n",
            "I will run forever\n",
            "I will run forever\n",
            "I will run forever\n",
            "I will run forever\n",
            "I will run forever\n",
            "I will run forever\n",
            "I will run forever\n",
            "I will run forever\n",
            "I will run forever\n",
            "I will run forever\n",
            "I will run forever\n",
            "I will run forever\n",
            "I will run forever\n",
            "I will run forever\n",
            "I will run forever\n",
            "I will run forever\n",
            "I will run forever\n",
            "I will run forever\n",
            "I will run forever\n",
            "I will run forever\n",
            "I will run forever\n",
            "I will run forever\n",
            "I will run forever\n",
            "I will run forever\n",
            "I will run forever\n",
            "I will run forever\n",
            "I will run forever\n",
            "I will run forever\n",
            "I will run forever\n",
            "I will run forever\n",
            "I will run forever\n",
            "I will run forever\n",
            "I will run forever\n",
            "I will run forever\n",
            "I will run forever\n",
            "I will run forever\n",
            "I will run forever\n",
            "I will run forever\n",
            "I will run forever\n",
            "I will run forever\n",
            "I will run forever\n",
            "I will run forever\n",
            "I will run forever\n",
            "I will run forever\n",
            "I will run forever\n",
            "I will run forever\n",
            "I will run forever\n",
            "I will run forever\n",
            "I will run forever\n",
            "I will run forever\n",
            "I will run forever\n",
            "I will run forever\n",
            "I will run forever\n",
            "I will run forever\n",
            "I will run forever\n",
            "I will run forever\n",
            "I will run forever\n",
            "I will run forever\n",
            "I will run forever\n",
            "I will run forever\n",
            "I will run forever\n",
            "I will run forever\n",
            "I will run forever\n",
            "I will run forever\n",
            "I will run forever\n",
            "I will run forever\n",
            "I will run forever\n",
            "I will run forever\n",
            "I will run forever\n",
            "I will run forever\n",
            "I will run forever\n",
            "I will run forever\n",
            "I will run forever\n",
            "I will run forever\n",
            "I will run forever\n",
            "I will run forever\n",
            "I will run forever\n",
            "I will run forever\n",
            "I will run forever\n",
            "I will run forever\n",
            "I will run forever\n",
            "I will run forever\n",
            "I will run forever\n",
            "I will run forever\n",
            "I will run forever\n",
            "I will run forever\n",
            "I will run forever\n",
            "I will run forever\n",
            "I will run forever\n",
            "I will run forever\n",
            "I will run forever\n",
            "I will run forever\n",
            "I will run forever\n",
            "I will run forever\n",
            "I will run forever\n",
            "I will run forever\n",
            "I will run forever\n",
            "I will run forever\n",
            "I will run forever\n",
            "I will run forever\n",
            "I will run forever\n",
            "I will run forever\n",
            "I will run forever\n",
            "I will run forever\n",
            "I will run forever\n",
            "I will run forever\n",
            "I will run forever\n",
            "I will run forever\n",
            "I will run forever\n",
            "I will run forever\n",
            "I will run forever\n",
            "I will run forever\n",
            "I will run forever\n",
            "I will run forever\n",
            "I will run forever\n",
            "I will run forever\n",
            "I will run forever\n",
            "I will run forever\n",
            "I will run forever\n",
            "I will run forever\n",
            "I will run forever\n",
            "I will run forever\n",
            "I will run forever\n",
            "I will run forever\n",
            "I will run forever\n",
            "I will run forever\n",
            "I will run forever\n",
            "I will run forever\n",
            "I will run forever\n",
            "I will run forever\n",
            "I will run forever\n",
            "I will run forever\n",
            "I will run forever\n",
            "I will run forever\n",
            "I will run forever\n",
            "I will run forever\n",
            "I will run forever\n",
            "I will run forever\n",
            "I will run forever\n",
            "I will run forever\n",
            "I will run forever\n",
            "I will run forever\n",
            "I will run forever\n",
            "I will run forever\n",
            "I will run forever\n",
            "I will run forever\n",
            "I will run forever\n",
            "I will run forever\n",
            "I will run forever\n",
            "I will run forever\n",
            "I will run forever\n",
            "I will run forever\n",
            "I will run forever\n",
            "I will run forever\n",
            "I will run forever\n",
            "I will run forever\n",
            "I will run forever\n",
            "I will run forever\n",
            "I will run forever\n",
            "I will run forever\n",
            "I will run forever\n",
            "I will run forever\n",
            "I will run forever\n",
            "I will run forever\n",
            "I will run forever\n",
            "I will run forever\n",
            "I will run forever\n",
            "I will run forever\n",
            "I will run forever\n",
            "I will run forever\n",
            "I will run forever\n",
            "I will run forever\n",
            "I will run forever\n",
            "I will run forever\n",
            "I will run forever\n",
            "I will run forever\n",
            "I will run forever\n",
            "I will run forever\n",
            "I will run forever\n",
            "I will run forever\n",
            "I will run forever\n",
            "I will run forever\n",
            "I will run forever\n",
            "I will run forever\n",
            "I will run forever\n",
            "I will run forever\n",
            "I will run forever\n",
            "I will run forever\n",
            "I will run forever\n",
            "I will run forever\n",
            "I will run forever\n",
            "I will run forever\n",
            "I will run forever\n",
            "I will run forever\n",
            "I will run forever\n",
            "I will run forever\n",
            "I will run forever\n",
            "I will run forever\n",
            "I will run forever\n",
            "I will run forever\n",
            "I will run forever\n",
            "I will run forever\n",
            "I will run forever\n",
            "I will run forever\n",
            "I will run forever\n",
            "I will run forever\n",
            "I will run forever\n",
            "I will run forever\n",
            "I will run forever\n",
            "I will run forever\n",
            "I will run forever\n",
            "I will run forever\n",
            "I will run forever\n",
            "I will run forever\n",
            "I will run forever\n",
            "I will run forever\n",
            "I will run forever\n",
            "I will run forever\n",
            "I will run forever\n",
            "I will run forever\n",
            "I will run forever\n",
            "I will run forever\n",
            "I will run forever\n",
            "I will run forever\n",
            "I will run forever\n",
            "I will run forever\n",
            "I will run forever\n",
            "I will run forever\n",
            "I will run forever\n",
            "I will run forever\n",
            "I will run forever\n",
            "I will run forever\n",
            "I will run forever\n",
            "I will run forever\n",
            "I will run forever\n",
            "I will run forever\n",
            "I will run forever\n",
            "I will run forever\n",
            "I will run forever\n",
            "I will run forever\n",
            "I will run forever\n",
            "I will run forever\n",
            "I will run forever\n",
            "I will run forever\n",
            "I will run forever\n",
            "I will run forever\n",
            "I will run forever\n",
            "I will run forever\n",
            "I will run forever\n",
            "I will run forever\n",
            "I will run forever\n",
            "I will run forever\n",
            "I will run forever\n",
            "I will run forever\n",
            "I will run forever\n",
            "I will run forever\n",
            "I will run forever\n",
            "I will run forever\n",
            "I will run forever\n",
            "I will run forever\n",
            "I will run forever\n",
            "I will run forever\n",
            "I will run forever\n",
            "I will run forever\n",
            "I will run forever\n",
            "I will run forever\n",
            "I will run forever\n",
            "I will run forever\n",
            "I will run forever\n",
            "I will run forever\n",
            "I will run forever\n",
            "I will run forever\n",
            "I will run forever\n",
            "I will run forever\n",
            "I will run forever\n",
            "I will run forever\n",
            "I will run forever\n",
            "I will run forever\n",
            "I will run forever\n",
            "I will run forever\n",
            "I will run forever\n",
            "I will run forever\n",
            "I will run forever\n",
            "I will run forever\n",
            "I will run forever\n",
            "I will run forever\n",
            "I will run forever\n",
            "I will run forever\n",
            "I will run forever\n",
            "I will run forever\n",
            "I will run forever\n",
            "I will run forever\n",
            "I will run forever\n",
            "I will run forever\n",
            "I will run forever\n",
            "I will run forever\n",
            "I will run forever\n",
            "I will run forever\n",
            "I will run forever\n",
            "I will run forever\n",
            "I will run forever\n",
            "I will run forever\n",
            "I will run forever\n",
            "I will run forever\n",
            "I will run forever\n",
            "I will run forever\n",
            "I will run forever\n",
            "I will run forever\n",
            "I will run forever\n",
            "I will run forever\n",
            "I will run forever\n",
            "I will run forever\n",
            "I will run forever\n",
            "I will run forever\n",
            "I will run forever\n",
            "I will run forever\n",
            "I will run forever\n",
            "I will run forever\n",
            "I will run forever\n",
            "I will run forever\n",
            "I will run forever\n",
            "I will run forever\n",
            "I will run forever\n",
            "I will run forever\n",
            "I will run forever\n",
            "I will run forever\n",
            "I will run forever\n",
            "I will run forever\n",
            "I will run forever\n",
            "I will run forever\n",
            "I will run forever\n",
            "I will run forever\n",
            "I will run forever\n",
            "I will run forever\n",
            "I will run forever\n",
            "I will run forever\n",
            "I will run forever\n",
            "I will run forever\n",
            "I will run forever\n",
            "I will run forever\n",
            "I will run forever\n",
            "I will run forever\n",
            "I will run forever\n",
            "I will run forever\n",
            "I will run forever\n",
            "I will run forever\n",
            "I will run forever\n",
            "I will run forever\n",
            "I will run forever\n",
            "I will run forever\n",
            "I will run forever\n",
            "I will run forever\n",
            "I will run forever\n",
            "I will run forever\n",
            "I will run forever\n",
            "I will run forever\n",
            "I will run forever\n",
            "I will run forever\n",
            "I will run forever\n",
            "I will run forever\n",
            "I will run forever\n",
            "I will run forever\n",
            "I will run forever\n",
            "I will run forever\n",
            "I will run forever\n",
            "I will run forever\n",
            "I will run forever\n",
            "I will run forever\n",
            "I will run forever\n",
            "I will run forever\n",
            "I will run forever\n",
            "I will run forever\n",
            "I will run forever\n",
            "I will run forever\n",
            "I will run forever\n",
            "I will run forever\n",
            "I will run forever\n",
            "I will run forever\n",
            "I will run forever\n",
            "I will run forever\n",
            "I will run forever\n",
            "I will run forever\n",
            "I will run forever\n",
            "I will run forever\n",
            "I will run forever\n",
            "I will run forever\n",
            "I will run forever\n",
            "I will run forever\n",
            "I will run forever\n",
            "I will run forever\n",
            "I will run forever\n",
            "I will run forever\n",
            "I will run forever\n",
            "I will run forever\n",
            "I will run forever\n",
            "I will run forever\n",
            "I will run forever\n",
            "I will run forever\n",
            "I will run forever\n",
            "I will run forever\n",
            "I will run forever\n",
            "I will run forever\n",
            "I will run forever\n",
            "I will run forever\n",
            "I will run forever\n",
            "I will run forever\n",
            "I will run forever\n",
            "I will run forever\n",
            "I will run forever\n",
            "I will run forever\n",
            "I will run forever\n",
            "I will run forever\n",
            "I will run forever\n",
            "I will run forever\n",
            "I will run forever\n",
            "I will run forever\n",
            "I will run forever\n",
            "I will run forever\n",
            "I will run forever\n",
            "I will run forever\n",
            "I will run forever\n",
            "I will run forever\n",
            "I will run forever\n",
            "I will run forever\n",
            "I will run forever\n",
            "I will run forever\n",
            "I will run forever\n",
            "I will run forever\n",
            "I will run forever\n",
            "I will run forever\n",
            "I will run forever\n",
            "I will run forever\n",
            "I will run forever\n",
            "I will run forever\n",
            "I will run forever\n",
            "I will run forever\n",
            "I will run forever\n",
            "I will run forever\n",
            "I will run forever\n",
            "I will run forever\n",
            "I will run forever\n",
            "I will run forever\n",
            "I will run forever\n",
            "I will run forever\n",
            "I will run forever\n",
            "I will run forever\n",
            "I will run forever\n",
            "I will run forever\n",
            "I will run forever\n",
            "I will run forever\n",
            "I will run forever\n",
            "I will run forever\n",
            "I will run forever\n",
            "I will run forever\n",
            "I will run forever\n",
            "I will run forever\n",
            "I will run forever\n",
            "I will run forever\n",
            "I will run forever\n",
            "I will run forever\n",
            "I will run forever\n",
            "I will run forever\n",
            "I will run forever\n",
            "I will run forever\n",
            "I will run forever\n",
            "I will run forever\n",
            "I will run forever\n",
            "I will run forever\n",
            "I will run forever\n",
            "I will run forever\n",
            "I will run forever\n",
            "I will run forever\n",
            "I will run forever\n",
            "I will run forever\n",
            "I will run forever\n",
            "I will run forever\n",
            "I will run forever\n",
            "I will run forever\n",
            "I will run forever\n",
            "I will run forever\n",
            "I will run forever\n",
            "I will run forever\n",
            "I will run forever\n",
            "I will run forever\n",
            "I will run forever\n",
            "I will run forever\n",
            "I will run forever\n",
            "I will run forever\n",
            "I will run forever\n",
            "I will run forever\n",
            "I will run forever\n",
            "I will run forever\n",
            "I will run forever\n",
            "I will run forever\n",
            "I will run forever\n",
            "I will run forever\n",
            "I will run forever\n",
            "I will run forever\n",
            "I will run forever\n",
            "I will run forever\n",
            "I will run forever\n",
            "I will run forever\n",
            "I will run forever\n",
            "I will run forever\n",
            "I will run forever\n",
            "I will run forever\n",
            "I will run forever\n",
            "I will run forever\n",
            "I will run forever\n",
            "I will run forever\n",
            "I will run forever\n",
            "I will run forever\n",
            "I will run forever\n",
            "I will run forever\n",
            "I will run forever\n",
            "I will run forever\n",
            "I will run forever\n",
            "I will run forever\n",
            "I will run forever\n",
            "I will run forever\n",
            "I will run forever\n",
            "I will run forever\n",
            "I will run forever\n",
            "I will run forever\n",
            "I will run forever\n",
            "I will run forever\n",
            "I will run forever\n",
            "I will run forever\n",
            "I will run forever\n",
            "I will run forever\n",
            "I will run forever\n",
            "I will run forever\n",
            "I will run forever\n",
            "I will run forever\n",
            "I will run forever\n",
            "I will run forever\n",
            "I will run forever\n",
            "I will run forever\n",
            "I will run forever\n",
            "I will run forever\n",
            "I will run forever\n",
            "I will run forever\n",
            "I will run forever\n",
            "I will run forever\n",
            "I will run forever\n",
            "I will run forever\n",
            "I will run forever\n",
            "I will run forever\n",
            "I will run forever\n",
            "I will run forever\n",
            "I will run forever\n",
            "I will run forever\n",
            "I will run forever\n",
            "I will run forever\n",
            "I will run forever\n",
            "I will run forever\n",
            "I will run forever\n",
            "I will run forever\n",
            "I will run forever\n",
            "I will run forever\n",
            "I will run forever\n",
            "I will run forever\n",
            "I will run forever\n",
            "I will run forever\n",
            "I will run forever\n",
            "I will run forever\n",
            "I will run forever\n",
            "I will run forever\n",
            "I will run forever\n",
            "I will run forever\n",
            "I will run forever\n",
            "I will run forever\n",
            "I will run forever\n",
            "I will run forever\n",
            "I will run forever\n",
            "I will run forever\n",
            "I will run forever\n",
            "I will run forever\n",
            "I will run forever\n",
            "I will run forever\n",
            "I will run forever\n",
            "I will run forever\n",
            "I will run forever\n",
            "I will run forever\n",
            "I will run forever\n",
            "I will run forever\n",
            "I will run forever\n",
            "I will run forever\n",
            "I will run forever\n",
            "I will run forever\n",
            "I will run forever\n",
            "I will run forever\n",
            "I will run forever\n",
            "I will run forever\n",
            "I will run forever\n",
            "I will run forever\n",
            "I will run forever\n",
            "I will run forever\n",
            "I will run forever\n",
            "I will run forever\n",
            "I will run forever\n",
            "I will run forever\n",
            "I will run forever\n",
            "I will run forever\n",
            "I will run forever\n",
            "I will run forever\n",
            "I will run forever\n",
            "I will run forever\n",
            "I will run forever\n",
            "I will run forever\n",
            "I will run forever\n",
            "I will run forever\n",
            "I will run forever\n",
            "I will run forever\n",
            "I will run forever\n",
            "I will run forever\n",
            "I will run forever\n",
            "I will run forever\n",
            "I will run forever\n",
            "I will run forever\n",
            "I will run forever\n",
            "I will run forever\n",
            "I will run forever\n",
            "I will run forever\n",
            "I will run forever\n",
            "I will run forever\n",
            "I will run forever\n",
            "I will run forever\n",
            "I will run forever\n",
            "I will run forever\n",
            "I will run forever\n",
            "I will run forever\n",
            "I will run forever\n",
            "I will run forever\n",
            "I will run forever\n",
            "I will run forever\n",
            "I will run forever\n",
            "I will run forever\n",
            "I will run forever\n",
            "I will run forever\n",
            "I will run forever\n",
            "I will run forever\n",
            "I will run forever\n",
            "I will run forever\n",
            "I will run forever\n",
            "I will run forever\n",
            "I will run forever\n",
            "I will run forever\n",
            "I will run forever\n",
            "I will run forever\n",
            "I will run forever\n",
            "I will run forever\n",
            "I will run forever\n",
            "I will run forever\n",
            "I will run forever\n",
            "I will run forever\n",
            "I will run forever\n",
            "I will run forever\n",
            "I will run forever\n",
            "I will run forever\n",
            "I will run forever\n",
            "I will run forever\n",
            "I will run forever\n",
            "I will run forever\n",
            "I will run forever\n",
            "I will run forever\n",
            "I will run forever\n",
            "I will run forever\n",
            "I will run forever\n",
            "I will run forever\n",
            "I will run forever\n",
            "I will run forever\n",
            "I will run forever\n",
            "I will run forever\n",
            "I will run forever\n",
            "I will run forever\n",
            "I will run forever\n",
            "I will run forever\n",
            "I will run forever\n",
            "I will run forever\n",
            "I will run forever\n",
            "I will run forever\n",
            "I will run forever\n",
            "I will run forever\n",
            "I will run forever\n",
            "I will run forever\n",
            "I will run forever\n",
            "I will run forever\n",
            "I will run forever\n",
            "I will run forever\n",
            "I will run forever\n",
            "I will run forever\n",
            "I will run forever\n",
            "I will run forever\n",
            "I will run forever\n",
            "I will run forever\n",
            "I will run forever\n",
            "I will run forever\n",
            "I will run forever\n",
            "I will run forever\n",
            "I will run forever\n",
            "I will run forever\n",
            "I will run forever\n",
            "I will run forever\n",
            "I will run forever\n",
            "I will run forever\n",
            "I will run forever\n",
            "I will run forever\n",
            "I will run forever\n",
            "I will run forever\n",
            "I will run forever\n",
            "I will run forever\n",
            "I will run forever\n",
            "I will run forever\n",
            "I will run forever\n",
            "I will run forever\n",
            "I will run forever\n",
            "I will run forever\n",
            "I will run forever\n",
            "I will run forever\n",
            "I will run forever\n",
            "I will run forever\n",
            "I will run forever\n",
            "I will run forever\n",
            "I will run forever\n",
            "I will run forever\n",
            "I will run forever\n",
            "I will run forever\n",
            "I will run forever\n",
            "I will run forever\n",
            "I will run forever\n",
            "I will run forever\n",
            "I will run forever\n",
            "I will run forever\n",
            "I will run forever\n",
            "I will run forever\n",
            "I will run forever\n",
            "I will run forever\n",
            "I will run forever\n",
            "I will run forever\n",
            "I will run forever\n",
            "I will run forever\n",
            "I will run forever\n",
            "I will run forever\n",
            "I will run forever\n",
            "I will run forever\n",
            "I will run forever\n",
            "I will run forever\n",
            "I will run forever\n",
            "I will run forever\n",
            "I will run forever\n"
          ]
        },
        {
          "output_type": "error",
          "ename": "RecursionError",
          "evalue": "maximum recursion depth exceeded while calling a Python object",
          "traceback": [
            "\u001b[0;31m---------------------------------------------------------------------------\u001b[0m",
            "\u001b[0;31mRecursionError\u001b[0m                            Traceback (most recent call last)",
            "\u001b[0;32m/tmp/ipython-input-1-2996631148.py\u001b[0m in \u001b[0;36m<cell line: 0>\u001b[0;34m()\u001b[0m\n\u001b[1;32m      5\u001b[0m     \u001b[0mrecursive_crash\u001b[0m\u001b[0;34m(\u001b[0m\u001b[0;34m)\u001b[0m\u001b[0;34m\u001b[0m\u001b[0;34m\u001b[0m\u001b[0m\n\u001b[1;32m      6\u001b[0m \u001b[0;34m\u001b[0m\u001b[0m\n\u001b[0;32m----> 7\u001b[0;31m \u001b[0mrecursive_crash\u001b[0m\u001b[0;34m(\u001b[0m\u001b[0;34m)\u001b[0m\u001b[0;34m\u001b[0m\u001b[0;34m\u001b[0m\u001b[0m\n\u001b[0m",
            "\u001b[0;32m/tmp/ipython-input-1-2996631148.py\u001b[0m in \u001b[0;36mrecursive_crash\u001b[0;34m()\u001b[0m\n\u001b[1;32m      3\u001b[0m \u001b[0;32mdef\u001b[0m \u001b[0mrecursive_crash\u001b[0m\u001b[0;34m(\u001b[0m\u001b[0;34m)\u001b[0m\u001b[0;34m:\u001b[0m\u001b[0;34m\u001b[0m\u001b[0;34m\u001b[0m\u001b[0m\n\u001b[1;32m      4\u001b[0m     \u001b[0mprint\u001b[0m\u001b[0;34m(\u001b[0m\u001b[0;34m\"I will run forever\"\u001b[0m\u001b[0;34m)\u001b[0m\u001b[0;34m\u001b[0m\u001b[0;34m\u001b[0m\u001b[0m\n\u001b[0;32m----> 5\u001b[0;31m     \u001b[0mrecursive_crash\u001b[0m\u001b[0;34m(\u001b[0m\u001b[0;34m)\u001b[0m\u001b[0;34m\u001b[0m\u001b[0;34m\u001b[0m\u001b[0m\n\u001b[0m\u001b[1;32m      6\u001b[0m \u001b[0;34m\u001b[0m\u001b[0m\n\u001b[1;32m      7\u001b[0m \u001b[0mrecursive_crash\u001b[0m\u001b[0;34m(\u001b[0m\u001b[0;34m)\u001b[0m\u001b[0;34m\u001b[0m\u001b[0;34m\u001b[0m\u001b[0m\n",
            "... last 1 frames repeated, from the frame below ...\n",
            "\u001b[0;32m/tmp/ipython-input-1-2996631148.py\u001b[0m in \u001b[0;36mrecursive_crash\u001b[0;34m()\u001b[0m\n\u001b[1;32m      3\u001b[0m \u001b[0;32mdef\u001b[0m \u001b[0mrecursive_crash\u001b[0m\u001b[0;34m(\u001b[0m\u001b[0;34m)\u001b[0m\u001b[0;34m:\u001b[0m\u001b[0;34m\u001b[0m\u001b[0;34m\u001b[0m\u001b[0m\n\u001b[1;32m      4\u001b[0m     \u001b[0mprint\u001b[0m\u001b[0;34m(\u001b[0m\u001b[0;34m\"I will run forever\"\u001b[0m\u001b[0;34m)\u001b[0m\u001b[0;34m\u001b[0m\u001b[0;34m\u001b[0m\u001b[0m\n\u001b[0;32m----> 5\u001b[0;31m     \u001b[0mrecursive_crash\u001b[0m\u001b[0;34m(\u001b[0m\u001b[0;34m)\u001b[0m\u001b[0;34m\u001b[0m\u001b[0;34m\u001b[0m\u001b[0m\n\u001b[0m\u001b[1;32m      6\u001b[0m \u001b[0;34m\u001b[0m\u001b[0m\n\u001b[1;32m      7\u001b[0m \u001b[0mrecursive_crash\u001b[0m\u001b[0;34m(\u001b[0m\u001b[0;34m)\u001b[0m\u001b[0;34m\u001b[0m\u001b[0;34m\u001b[0m\u001b[0m\n",
            "\u001b[0;31mRecursionError\u001b[0m: maximum recursion depth exceeded while calling a Python object"
          ]
        }
      ],
      "source": [
        "# Recursion Example1 )\n",
        "\n",
        "def recursive_crash():\n",
        "    print(\"I will run forever\")\n",
        "    recursive_crash()\n",
        "\n",
        "recursive_crash()"
      ]
    },
    {
      "cell_type": "markdown",
      "source": [
        "# 1. Iteration vs **Recursion**"
      ],
      "metadata": {
        "id": "6vadbjCGGtCU"
      }
    },
    {
      "cell_type": "code",
      "source": [
        "# Iteration\n",
        "def count_iterative(num):\n",
        "    i = 1\n",
        "    while i <= num:\n",
        "        print(f\"Count {i}!\")\n",
        "        i += 1"
      ],
      "metadata": {
        "id": "D1mDf32oGxz5"
      },
      "execution_count": null,
      "outputs": []
    },
    {
      "cell_type": "code",
      "source": [
        "count_iterative(5)"
      ],
      "metadata": {
        "colab": {
          "base_uri": "https://localhost:8080/"
        },
        "id": "U8ULf_18G3yd",
        "outputId": "6cf3fbf2-bead-4f1c-ece2-319c47d53083"
      },
      "execution_count": null,
      "outputs": [
        {
          "output_type": "stream",
          "name": "stdout",
          "text": [
            "Count 1!\n",
            "Count 2!\n",
            "Count 3!\n",
            "Count 4!\n",
            "Count 5!\n"
          ]
        }
      ]
    },
    {
      "cell_type": "code",
      "source": [
        "# Recursion\n",
        "def count_recursive(num):\n",
        "    print(f\"Count {num}!\")\n",
        "    if num == 1: # stops when num == 1\n",
        "        return\n",
        "    else:\n",
        "       count_recursive(num - 1) # removes num by 1 every time it runs it"
      ],
      "metadata": {
        "id": "Z-K4a3NPG9xa"
      },
      "execution_count": null,
      "outputs": []
    },
    {
      "cell_type": "code",
      "source": [
        "count_recursive(5)"
      ],
      "metadata": {
        "colab": {
          "base_uri": "https://localhost:8080/"
        },
        "id": "u9_BWqNgHJkB",
        "outputId": "8588c886-382b-4d45-8bb6-e645be989e27"
      },
      "execution_count": null,
      "outputs": [
        {
          "output_type": "stream",
          "name": "stdout",
          "text": [
            "Count 5!\n",
            "Count 4!\n",
            "Count 3!\n",
            "Count 2!\n",
            "Count 1!\n"
          ]
        }
      ]
    },
    {
      "cell_type": "markdown",
      "source": [
        "# 2. Building a Recursive Function\n",
        "\n",
        "- The base case :\n",
        "  - End condition. Describes the condition and code that should run when we want our function to stop making recursive calls. Often the base case is the smallest subproblem of the overall problem we are working to solve.\n",
        "\n",
        "- The recursive case :\n",
        "  - Code to execute in all other cases. The recursive case calls the function again, but usually passes in a smaller or simpler input to move us closer to reaching the base case."
      ],
      "metadata": {
        "id": "egPSP__rHVgS"
      }
    },
    {
      "cell_type": "code",
      "source": [
        "def count_recursive(num):\n",
        "    # Action to repeat\n",
        "    print(f\"Count {num}!\")\n",
        "\n",
        "    # Base Case: If num is 1 we want to stop counting down\n",
        "    if num == 1:\n",
        "        # Terminate the function by returning\n",
        "        return\n",
        "\n",
        "    # Recursive Case: If num is Larger than 1\n",
        "    else:\n",
        "        # Call count_recursive() again, but decrement the input value by 1\n",
        "        count_recursive(num - 1)"
      ],
      "metadata": {
        "id": "tKxN_jVaHkAp"
      },
      "execution_count": null,
      "outputs": []
    },
    {
      "cell_type": "code",
      "source": [
        "count_recursive(6)"
      ],
      "metadata": {
        "colab": {
          "base_uri": "https://localhost:8080/"
        },
        "id": "QuJMiudTIRvK",
        "outputId": "fa863ccb-feed-4693-dbf9-b6164a753e42"
      },
      "execution_count": null,
      "outputs": [
        {
          "output_type": "stream",
          "name": "stdout",
          "text": [
            "Count 6!\n",
            "Count 5!\n",
            "Count 4!\n",
            "Count 3!\n",
            "Count 2!\n",
            "Count 1!\n"
          ]
        }
      ]
    },
    {
      "cell_type": "markdown",
      "source": [
        "## A recursive function may have multiple base cases."
      ],
      "metadata": {
        "id": "IcJSQhmfIgDJ"
      }
    },
    {
      "cell_type": "code",
      "source": [
        "# Check if a given value is odd\n",
        "def is_odd(n):\n",
        "\n",
        "  # Base Case 1: n is 0, which is not odd\n",
        "  if n == 0:\n",
        "    # Return False\n",
        "    return False\n",
        "  # Base Case 2: n is 1, which is odd\n",
        "  if n == 1:\n",
        "    # Return True\n",
        "    return True\n",
        "\n",
        "  # Recursive case: n is greater than 1\n",
        "  else:\n",
        "    # Check if the input subtracted by 2 is odd\n",
        "    # If n - 2 is odd, n must also be odd\n",
        "    return is_odd(n - 2)"
      ],
      "metadata": {
        "id": "Il6tMcXWIUWE"
      },
      "execution_count": null,
      "outputs": []
    },
    {
      "cell_type": "code",
      "source": [
        "test_odd_value = is_odd(5)\n",
        "test_even_value = is_odd(6)\n",
        "\n",
        "print(test_odd_value) # Prints True\n",
        "print(test_even_value) # Prints False"
      ],
      "metadata": {
        "colab": {
          "base_uri": "https://localhost:8080/"
        },
        "id": "FFND0lvAIelz",
        "outputId": "fe2cb33c-421e-41ec-fbf9-4c15b419d4b1"
      },
      "execution_count": null,
      "outputs": [
        {
          "output_type": "stream",
          "name": "stdout",
          "text": [
            "True\n",
            "False\n"
          ]
        }
      ]
    },
    {
      "cell_type": "markdown",
      "source": [
        "## A recursive function may also have multiple recursive cases."
      ],
      "metadata": {
        "id": "5yKK8oWQI4Xm"
      }
    },
    {
      "cell_type": "code",
      "source": [
        "# Count the number of even values in a list\n",
        "def count_evens(lst):\n",
        "  # Base case: The list is empty\n",
        "  if not lst:\n",
        "    # There are 0 even values in the list\n",
        "    return 0\n",
        "\n",
        "  # Recursive Case 1: The first value in the list is even\n",
        "  if lst[0] % 2 == 0:\n",
        "    # Count of even values is 1 + the count of evens in the rest of the list\n",
        "    return 1 + count_evens(lst[1:])\n",
        "  # Recursive Case 2: The first value in the list is odd\n",
        "  else:\n",
        "    # Count of even values is the count of evens in the rest of the list\n",
        "    return count_evens(lst[1:])"
      ],
      "metadata": {
        "id": "Hxl-aCg_I6Yz"
      },
      "execution_count": null,
      "outputs": []
    },
    {
      "cell_type": "code",
      "source": [
        "output = count_evens([1, 2, 3, 4])\n",
        "print(output) # Prints 2"
      ],
      "metadata": {
        "colab": {
          "base_uri": "https://localhost:8080/"
        },
        "id": "0-O4lpQpI-wZ",
        "outputId": "37e7b354-ceee-4a82-b535-436e7c94f0e7"
      },
      "execution_count": null,
      "outputs": [
        {
          "output_type": "stream",
          "name": "stdout",
          "text": [
            "2\n"
          ]
        }
      ]
    },
    {
      "cell_type": "markdown",
      "source": [
        "### we often use an accumulator variable to collect our final result."
      ],
      "metadata": {
        "id": "S3nM6nbyJfYb"
      }
    },
    {
      "cell_type": "code",
      "source": [
        "def count_evens_iterative(lst):\n",
        "    # Accumulator variable\n",
        "    count = 0\n",
        "    for num in lst:\n",
        "        if num % 2 == 0:\n",
        "            count += 1\n",
        "    return count"
      ],
      "metadata": {
        "id": "C8cxBZU-JiKK"
      },
      "execution_count": null,
      "outputs": []
    },
    {
      "cell_type": "code",
      "source": [
        "count_evens_iterative([1, 2, 3, 4])"
      ],
      "metadata": {
        "colab": {
          "base_uri": "https://localhost:8080/"
        },
        "id": "F45UXwc0JjYM",
        "outputId": "19643e84-13f6-45d7-bc3f-8a9c96334926"
      },
      "execution_count": null,
      "outputs": [
        {
          "output_type": "execute_result",
          "data": {
            "text/plain": [
              "2"
            ]
          },
          "metadata": {},
          "execution_count": 18
        }
      ]
    },
    {
      "cell_type": "markdown",
      "source": [
        "# 3. Recursive Driver and Helper Functions"
      ],
      "metadata": {
        "id": "SPkMmtp-JqpU"
      }
    },
    {
      "cell_type": "code",
      "source": [
        "# Solving with helper functions\n",
        "def partition_evens_odds(lst):\n",
        "  return recurse_partition(lst, [], [])\n",
        "\n",
        "def recurse_partition(lst, evens, odds):\n",
        "  if not lst:\n",
        "      return evens, odds\n",
        "  if lst[0] % 2 == 0:\n",
        "      evens.append(lst[0])\n",
        "  else:\n",
        "      odds.append(lst[0])\n",
        "  return recurse_partition(lst[1:], evens, odds)"
      ],
      "metadata": {
        "id": "VTDPn2N1J6uV"
      },
      "execution_count": null,
      "outputs": []
    },
    {
      "cell_type": "code",
      "source": [
        "lst = [1, 2, 3, 4, 5, 6, 7, 8, 9]\n",
        "evens, odds = partition_evens_odds(lst)\n",
        "print(evens) # Prints: [2, 4, 6, 8]\n",
        "print(odds)  # Prints: [1, 3, 5, 7, 9]"
      ],
      "metadata": {
        "colab": {
          "base_uri": "https://localhost:8080/"
        },
        "id": "6ZhKbRkGJ8jM",
        "outputId": "cbf34fc3-e88d-42d9-e23e-341564a0c9ac"
      },
      "execution_count": null,
      "outputs": [
        {
          "output_type": "stream",
          "name": "stdout",
          "text": [
            "[2, 4, 6, 8]\n",
            "[1, 3, 5, 7, 9]\n"
          ]
        }
      ]
    },
    {
      "cell_type": "code",
      "source": [
        "# Solve without helper function\n",
        "def partition_evens_odds(lst, evens, odds):\n",
        "  if not lst:\n",
        "      return evens, odds\n",
        "  if lst[0] % 2 == 0:\n",
        "      evens.append(lst[0])\n",
        "  else:\n",
        "      odds.append(lst[0])\n",
        "  return partition_evens_odds(lst[1:], evens, odds)"
      ],
      "metadata": {
        "id": "RxJfHBkCLnWH"
      },
      "execution_count": null,
      "outputs": []
    },
    {
      "cell_type": "code",
      "source": [
        "lst = [1, 2, 3, 4, 5, 6, 7, 8, 9]\n",
        "evens, odds = partition_evens_odds(lst, [], []) # User has to pass in empty lists to hold result\n",
        "print(evens) # Prints: [2, 4, 6, 8]\n",
        "print(odds)  # Prints: [1, 3, 5, 7, 9]"
      ],
      "metadata": {
        "colab": {
          "base_uri": "https://localhost:8080/"
        },
        "id": "G3DtPWJ4LzuQ",
        "outputId": "3cbf0520-5bd8-43e8-b20d-f5051e3f76b0"
      },
      "execution_count": null,
      "outputs": [
        {
          "output_type": "stream",
          "name": "stdout",
          "text": [
            "[2, 4, 6, 8]\n",
            "[1, 3, 5, 7, 9]\n"
          ]
        }
      ]
    },
    {
      "cell_type": "markdown",
      "source": [
        "# 4. Divide & Conquer Algorithms"
      ],
      "metadata": {
        "id": "S4qNTGxkMBrO"
      }
    },
    {
      "cell_type": "markdown",
      "source": [
        "The divide and conquer approach can be split into three basic steps:\n",
        "\n",
        "1. Divide the overall problem into smaller subproblems.\n",
        "  - Each subproblem should be solvable using the same technique.\n",
        "  - The goal is to divide the problem into the smallest possible subproblems.\n",
        "2. Conquer by solving each subproblem.\n",
        "  - Solve each subproblem (often using recursion).\n",
        "  - The smallest subproblems (base cases) can be solved directly without using recursion.\n",
        "3. Combine the solutions to each subproblem to find the final result.\n",
        "  - Combine the results of each subproblem to solve larger subproblems.\n",
        "  - The goal is to find the final answer by merging the results of larger and larger subproblems."
      ],
      "metadata": {
        "id": "xTmU2DeBMDPK"
      }
    },
    {
      "cell_type": "markdown",
      "source": [
        "# 5. Binary Search [O(log n)]\n",
        "\n",
        "### Binary search can be split into the following steps:\n",
        "\n",
        "1. Check whether the middle value of the list is the target value.\n",
        "2. If the middle value is the target value, return the index of the middle/target value.\n",
        "3. Otherwise determine whether the target value should be in the left or right half of the sorted list by determining if it is smaller or larger than the target value.\n",
        "4. Perform a binary search on the half of the list that the target value must be in.\n",
        "5. If at any point, we have a list that is empty or of size 1 and still have not found our target value, we can return None or -1 or some other value to indicate the target value is not in the list."
      ],
      "metadata": {
        "id": "lOmk4oBLMjbp"
      }
    },
    {
      "cell_type": "markdown",
      "source": [
        "![image.png](data:image/png;base64,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)"
      ],
      "metadata": {
        "id": "aLH2a7_GNNNG"
      }
    },
    {
      "cell_type": "markdown",
      "source": [
        "# 6. Merge Sort\n",
        "\n",
        "### Merge sort can can be split into the following steps:\n",
        "\n",
        "1. Divide the list into two halves at each step until we have sublists of length 1.\n",
        "2. onquer each subproblem, by sorting each sublist (A sublist of length 1 is already sorted).\n",
        "3. Combine the sorted sublists by merging them together. Compare matching indices of two sublists to place them in sorted order."
      ],
      "metadata": {
        "id": "CmYIY4KkM6zJ"
      }
    },
    {
      "cell_type": "markdown",
      "source": [
        "![image.png](data:image/png;base64,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)"
      ],
      "metadata": {
        "id": "cD-4Y0AWNb0l"
      }
    },
    {
      "cell_type": "markdown",
      "source": [
        "# 7. Logarithmic Time Complexity\n",
        "\n",
        "### Divide and conquer algorithms often have a logarithmic time complexity.\n",
        "- As a reminder logarithmic algorithms are considered efficient because the time complexity increases incredibly slowly as the input size increases.\n",
        "\n",
        "![image.png](data:image/png;base64,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)"
      ],
      "metadata": {
        "id": "lAgQtWIpN7oI"
      }
    },
    {
      "cell_type": "markdown",
      "source": [
        "### Binary Search Time Complexity"
      ],
      "metadata": {
        "id": "2tBi-rsBONn_"
      }
    },
    {
      "cell_type": "code",
      "source": [
        "def binary_search(numbers, value):\n",
        "    low = 0\n",
        "    high = len(numbers) - 1\n",
        "    while low <= high:\n",
        "        mid = (low + high) // 2\n",
        "        if numbers[mid] > value:\n",
        "            high = mid - 1\n",
        "        elif numbers[mid] < value:\n",
        "            low = mid + 1\n",
        "        else:\n",
        "            return mid\n",
        "\n",
        "    return None\n",
        "\n",
        "\n"
      ],
      "metadata": {
        "id": "vXxuu0lBOTbF"
      },
      "execution_count": null,
      "outputs": []
    },
    {
      "cell_type": "code",
      "source": [
        "binary_search([1, 2, 3, 4, 5, 6, 7, 8] , 2)"
      ],
      "metadata": {
        "colab": {
          "base_uri": "https://localhost:8080/"
        },
        "id": "bK1dZhVgOVfL",
        "outputId": "cc040195-76a0-4e96-c49d-021c9fdaa8e2"
      },
      "execution_count": null,
      "outputs": [
        {
          "output_type": "execute_result",
          "data": {
            "text/plain": [
              "1"
            ]
          },
          "metadata": {},
          "execution_count": 28
        }
      ]
    },
    {
      "cell_type": "markdown",
      "source": [
        "### If the input is eight elements [1, 2, 3, 4, 5, 6, 7, 8] and value we are searching for is 2:\n",
        "\n",
        "- In the first iteration low will be 0 and high would be 7, and mid would be 3 ( (0+7) / 2).\n",
        "- On the second iteration low remains 0 and high becomes 2 and mid becomes 1.\n",
        "- Then value is found in the list and the function returns 1.\n",
        "\n",
        "Notice with each iteration the size of the input involved in the search (low to high) is halved. So worst-case a list of 8 items would take 3 iterations to find the value. We could double the size of numbers to 16 items and it would only take 4 iteration to find the value and for 32 items it would only take 5 iterations. Thus while the function does take longer as the input size increases it does not increase very rapidly."
      ],
      "metadata": {
        "id": "T9s3xrklP5rK"
      }
    },
    {
      "cell_type": "markdown",
      "source": [
        "In the worst case scenario, the algorithm will take the following number of iterations given the input of size n:\n",
        "\n",
        "![image.png](data:image/png;base64,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)"
      ],
      "metadata": {
        "id": "7omqXH8iQMO2"
      }
    },
    {
      "cell_type": "markdown",
      "source": [
        "# 8. Log-Linear Time Complexity"
      ],
      "metadata": {
        "id": "Ihtn781JQUit"
      }
    },
    {
      "cell_type": "markdown",
      "source": [
        "This time complexity is most often seen with Merge Sort and Quick Sort algorithms.\n",
        "\n",
        "The n in O(nlogn) represents a linear pass through all elements in the input. The log(n) portion represents the number of times the input is split or reduced in size, as is commonly seen in divide and conquer algorithms like Merge Sort where problems are repeatedly broken down into smaller subproblems.\n",
        "\n",
        "![image.png](data:image/png;base64,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)"
      ],
      "metadata": {
        "id": "bfkVNap2QWPn"
      }
    },
    {
      "cell_type": "markdown",
      "source": [
        "### Merge Sort Time Complexity\n",
        "Merge sort is a classic example of an algorithm with O(nlogn) time complexity."
      ],
      "metadata": {
        "id": "6BCOwhb4QjvL"
      }
    },
    {
      "cell_type": "code",
      "source": [
        "def merge_sort(arr):\n",
        "  if len(arr) <= 1:\n",
        "      return arr  # Base case: arrays with 1 or no elements are already sorted\n",
        "\n",
        "  # Divide the array into two halves\n",
        "  mid = len(arr) // 2\n",
        "  left_half = merge_sort(arr[:mid])\n",
        "  right_half = merge_sort(arr[mid:])\n",
        "\n",
        "  # Merge the sorted halves\n",
        "  return merge(left_half, right_half)\n",
        "\n",
        "def merge(left, right):\n",
        "  result = []\n",
        "  i = 0  # Pointer for left half\n",
        "  j = 0  # Pointer for right half\n",
        "\n",
        "  # Compare elements from both halves and merge them in sorted order\n",
        "  while i < len(left) and j < len(right):\n",
        "      if left[i] < right[j]:\n",
        "          result.append(left[i])\n",
        "          i += 1\n",
        "      else:\n",
        "          result.append(right[j])\n",
        "          j += 1\n",
        "\n",
        "  # Append any remaining elements in the left or right half\n",
        "  result.extend(left[i:])\n",
        "  result.extend(right[j:])\n",
        "\n",
        "  return result"
      ],
      "metadata": {
        "id": "KSwxANwVQjfO"
      },
      "execution_count": null,
      "outputs": []
    },
    {
      "cell_type": "markdown",
      "source": [
        "1. Dividing the Array (Logarithmic O(log n))\n",
        "  - Merge Sort uses a divide and conquer approach to recursively split the input array into two halves until each half contains only one element.\n",
        "  - The number of times we can split the array arr of length n until we get to arrays of length 1 is proportional to log2(n).\n",
        "    - For example, an array of 8 elements can be split 3 time: 8 -> 4 -> 2 -> 1. This is equivalent to log2(8) = 3.\n",
        "\n",
        "3. Merging the Subarrays (Linear O(n))\n",
        "  - After dividing the array into pieces, the algorithm merges the sorted subarrays back together.\n",
        "  - Merging each of the subarrays takes O(n) time where n is the combined number of elements in the two subarrays because we have to compare each element of each subarray in order to combine them into one sorted array.\n",
        "  - In the worst case (when we are combining two halves of the original array arr), there are n elements to combine so this part takes O(n) time.\n",
        "\n",
        "3. Putting it All Together (Log-Linear O(nlogn))\n",
        "  - At each recursive iteration, the algorithm performs O(n) operations merging the subarrays.\n",
        "  - There are log(n) recursive iterations, because that is the number of times we split the array.\n",
        "  - Combining these time complexities we get O(n) * O(log n) = O(nlogn).\n",
        "  - We multiply rather than sum because this is a nested operation, not a sequential operation: for each division, we have to go through and merge the two subarrays."
      ],
      "metadata": {
        "id": "ENE_dEovQzDf"
      }
    },
    {
      "cell_type": "markdown",
      "source": [
        "# 9. Exponential Time Complexity\n",
        "\n",
        "Exponential algorithms are often seen when problems use a recursive approach or conduct an exhaustive search where every possible combination of elements must be considered to find a solution.\n",
        "\n",
        "![image.png](data:image/png;base64,iVBORw0KGgoAAAANSUhEUgAAAHQAAAB3CAIAAABdbPPeAAAJ/0lEQVR4Ae2dv2/jthfA9R/Yf0GkP6DGafHUAFYzNmic9RrA8tRzJ6dugbshgNXFma66JQckN2hJ0s0Cki/wzWbAWQ0IuCHtTYqHy3AZZKTNzNp+vmeakmVLkWk7lBAEJEVR5IePj48/TElk/a/ew+Obt2eHJ83tyuHm3sHHT7crUiZpRfLxlGx07+5zxVr37p4QctnqvPz13VNSS/DZaHCl4ZXg6+mkbu++HJ1dNY6bl61O9/MX+hYh5P2fVxDS7txAtHbnBkK6d/ff/9TAu+i+bHWYRDh7VwXu4YfmxlalYpw0jpvfv2rkdmr/o9CcXbR//v0DIQSjvX57mivW3rw9JYRMg7tdaVx/rQDOWOF1vOF+/HSbyZe2X40EDTJx+KGJ7RpCzi7bmXwJtWdup/bxU3cgv+dXvX8eIU737n4YpzsN7tH5FfMieJDbf95w252bTL6ELRfKmdupnV62mTJXjBPQnu3OTa5YY+6Cd2Orct35axrc3sPjxlal9zCqjMAUFhrIG+7ZxUAkoY1DwQC3v5CXrc7GVoUQcnR+FdhHwYPQj/kfh5BvfvhliZqBN9zGcTOTL70e6kqEm9sJEEyEDoqYwdf9/CW3Uzs8bjLhjPflb+bR+agnZG5x8PKG+/rtaSZfogsMqtPfeM8u2pt7B4QQP9w5yQY+y4EpvoI33Je/mZl86fRiQsNu7h00fDK4uXcA2oOB+/Hv23lkFkq4XWnQFYnF5uPgDXe70sjkS9edv+jiXQ97OaTQe/j3zR8DSwv0aeO4iTr66Pz/uZ3a+7lb+ubewRKtXd5wN/cOwH6i4RJCrjs33/54sPFdJbdTG5gTrxrYU113bkA/gALJ5Ev0H9MI6GR7D4+ZfAnToW/xcfOGu7FVyeRLfg0Lpe3989i9u0dLdhQ4tKhuh6PbSFDOLtqMzRfp8adH5g0XhC5qvhsnTb9SnpnIdqXhN59nPpVgBK5woV0HGl7hReo9PM6vZyGp3sMjKvHwxBd3lyvcwOHZ4sq29JS5wr1sdTL5UuBwa+kgFpEBrnCPzq+Y4dkiirQ6aXKFC2PfGF3T6vCKlBOucCvGiX94Fim76xWZK9zA4dl68YqUW65wpw3PIuV4jSJzhRs+PFsjanNmlR9cGOln8qU5c/YMovGDC6tnMYZn60uZH1zRhmeEEH5wYfVMnOEZV7j+1bP1be9z5pyf5PpXz+bM4vpG4wcXVs+WuOjCv5L4wRVteMZV537zwy+ZfCnGag1/iUvqjazkGoZhmua01J+yyzHeAs+0nKxF+ARc13UBn+M4gbmPDTf2Ak9gNtYlcAzX8zxFUQCfoiie5/nLEBuugCOICZ1rWVaxWAR8hULBtu0E4Yq2wAPoxpI78g/p+rHOc3faU4QQAUcQE5I7D77YakHAEQQ/uAKOIALgWsNrWgOPLbkCjiAC4E7DOo/SCHlWtDWIEa4QIv5bsSVXwBEEJ8mFNQjYBuqvsGccwppi4UWNJ7lijiBYye0Pfw3DKJfL0xDHgwu7mHB3+LTEn1/4WHJd11UUpV6v9/8TQlqtlqZpTIHjwRVtFxNCG8PVNM11XUIIMlVVlZlhiAc38EcmmINn7BjDlWUZyolwETeWPx5cMY3cCZ2LKAEuTJIlIrkCTpODOI4lt9VqKYpiWZaqqrZtq6par9dRZkexh6LLBM70imnkTkguIcS27UKhIMvyixcvAtcjYqgFYY1cFu5MGYwBV1gjdwKu53kwa0P/Z3DHgCvaVn2a2Fjn7u7uZrNZffKiow6qYngxgeFemMkVZ6s+TWMMV5ZlsHPp24w7BlwxZ3KB2xgummIMUNobAy7sJmd+SU2n+YzdY7iu62qa1pq8mJLHgCvmTC5wG8Pd39/PZrOFyeuJcGE3OZymwiQlgncMdxE6V2Q7bMIU0zSNGez6hSuqWhBwwzMNbSy5tm0nrnNFtsMmJFfXddl30fUQw84V2Q6bgMtwDPRGVQui/aqPgTZQC7Cn0Q262NhDukxgiFfY+TBgIjmOI0mS53mapoFg0v8ZcJEkV+T5sBFcQsjMUS8ijgQXdjYu9wgfzPlSHAPJtSxrzndHgivsuiTClCzLKhQK6A93RIIruKkwsBYWB1dwU2EEN5vNlqdcjCDPL7kC/kadYTWCqyjK5BT52Mc8MD9cmFUQcH8YTWxRakHYLUw84I522fgOy6bf/ezdizLF0t5sUXML3c9fMvmSsHPk2CLHU44YFOKYs0ODaVyRx2bAcCFwK8bx4HA2sRXuotQCnN68xCOXQxofz1vJS25q4WL9JQ8XdAL9JQh8mWiO5OGCToBP6YhGkylvwnBhDnfap3SYdz97b8JwUzuBlpgk4cLYYbmfZqDLtnR3knDfD0/NFvD3ZtNqMUm40JWJuaExkG9icGHIm3ZlNOXE4ILYpkPe5OGmFhjNFN3JSC78RjIVW8QKjgTgptqWYYreBOCm2hZpMo6nwk3FlgFKe58KNxVbmibjfhLcww+D78ymti3DFL3x4eJMQjq7iDQZR3y4MAGWziQwQGlvTLjYj6ULZTRNxh0HLnwwOl3fZVD6vXHgpgrBzzEwJA5csBBShRAIlA6MAxf23aT/ZxOgSc90z04ujUETmAk0jRCbQDS1EPs1Yj6Ywl1gvS8Wrm3bM48ZSKRwcLRUvV63LAt/s+h5XqvVSiT9eIksFq4sy8kWr1qt+msLzk8tFAq6rsOnLuDEOdu2s9lsPC6JPLVmcAOPM6lWq8ViEXG4rou/CfXXBEbj4OAE1zTNd+/eGYahKAqcFQllK5fLcIiGoij08VDlchm/D+Q4zv7+Ppw9K0mSpmnIDhLRdR1PTqWROY6zu7uLZwFrXy9IDcPh1fg6OgV0m6aJ2gYDZzo4wdV1XVEUUBF90NhaZVmuVquu6/ZFDM5FBlmj9Un/vCj4AW1fJCGckUfHcZThVa/XaS0ER38SQjzPg/MOHMfJZrNQN6BM8DgEVVVD8EH+QyIEguYHlz7TVJJG72WauaqqUPJAuIQQJj4WyXVd0zQLhYIkSYqiADKEi9F0Xa9Wq+AtFot0CzBNE29BBMuy6AEBuA3DwNRmOlYLrq7r0BdFhYvl7EuoruvQMhi4pmnSX8uSZVlV1a+qQutXCa24+xUZCDfwcFZ8O+NYLbiapsHXrCLBZbQEfNXNdV0aruu6/ZMq6Xbt190MGtpbLBZRrdHh4e7lw8WGZtu2JElQfrrTMwwDDy0IVAv9M04Mw0Bw0G1CfwWH28Mp1ozQwTHM+FTgJ8qQXV9pMFWIt0IcKwFX0zRVVbGrIYSYpgmGAXwAAOFq2qD9Mh9b6Aspals41A+QoeRCtUGnRz8OXSi8vW8mI+gQXpFuLRbuzKyAJEJvzogGBPpTANPCH44mgf9WSEjgq0PiR7q1EnAj5XiNIi8ZbuBwdo3whWf1PyG2ynE0ZGkHAAAAAElFTkSuQmCC)"
      ],
      "metadata": {
        "id": "dw6X6067Qyuq"
      }
    },
    {
      "cell_type": "markdown",
      "source": [
        "### Fibonacci Time Complexity\n",
        "The naive implementation (simple, non-optimized solution) of Fibonacci is a prominent example of a O(2n) algorithm."
      ],
      "metadata": {
        "id": "jyxqVebCRLIh"
      }
    },
    {
      "cell_type": "code",
      "source": [
        "def fib(n):\n",
        "    if n <= 1:\n",
        "        return n\n",
        "    return fib(n-1) + fib(n-2)"
      ],
      "metadata": {
        "id": "HZ2H2DoaRmTR"
      },
      "execution_count": null,
      "outputs": []
    },
    {
      "cell_type": "code",
      "source": [
        "fib(5)"
      ],
      "metadata": {
        "colab": {
          "base_uri": "https://localhost:8080/"
        },
        "id": "rjFBKINLRoQ3",
        "outputId": "124c7adc-0aa4-4051-afe6-884a79fdac3a"
      },
      "execution_count": null,
      "outputs": [
        {
          "output_type": "execute_result",
          "data": {
            "text/plain": [
              "5"
            ]
          },
          "metadata": {},
          "execution_count": 30
        }
      ]
    },
    {
      "cell_type": "markdown",
      "source": [
        "We can observe how inefficient this is. For each recursive iteration, two more recursive calls are made. For example, if we call fibonacci(5) initially make 1 call. But then it calls fibonacci(4) and fibonacci(3). Then those two subsequent calls each make 2 more calls (4 calls total), and so on. Therefore we get exponential or O(2^n) growth.\n",
        "\n",
        "![image.png](data:image/png;base64,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)"
      ],
      "metadata": {
        "id": "NDGkaiDrRt0x"
      }
    },
    {
      "cell_type": "markdown",
      "source": [
        "# 10. The Call Stack\n",
        "When we make function calls, the body of the called function may call other functions, which may themselves call even more functions.\n",
        "\n"
      ],
      "metadata": {
        "id": "7kDUuG5WRuKx"
      }
    },
    {
      "cell_type": "code",
      "source": [
        "def function_c():\n",
        "    print(\"I'm Function C!\")\n",
        "    print(\"Function C is done executing!\")\n",
        "\n",
        "def function_b():\n",
        "    print(\"I'm Function B!\")\n",
        "    function_c()\n",
        "    print(\"Function B is done executing!\")\n",
        "\n",
        "def function_a():\n",
        "    print(\"I'm Function A!\")\n",
        "    function_b()\n",
        "    print(\"Function A is done executing!\")\n",
        "\n",
        "function_a()"
      ],
      "metadata": {
        "colab": {
          "base_uri": "https://localhost:8080/"
        },
        "id": "v5JgzzncSviS",
        "outputId": "523f0500-3fa7-4ac3-bcaf-72ecb40fc06e"
      },
      "execution_count": null,
      "outputs": [
        {
          "output_type": "stream",
          "name": "stdout",
          "text": [
            "I'm Function A!\n",
            "I'm Function B!\n",
            "I'm Function C!\n",
            "Function C is done executing!\n",
            "Function B is done executing!\n",
            "Function A is done executing!\n"
          ]
        }
      ]
    },
    {
      "cell_type": "markdown",
      "source": [
        "To help keep track of what code it should run next, computers maintain a call stack."
      ],
      "metadata": {
        "id": "ZrRMXLuqS01-"
      }
    },
    {
      "cell_type": "markdown",
      "source": [
        "![image.png](data:image/png;base64,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)"
      ],
      "metadata": {
        "id": "qNnpVhOYSw9t"
      }
    }
  ]
}