{
  "nbformat": 4,
  "nbformat_minor": 0,
  "metadata": {
    "colab": {
      "provenance": [],
      "authorship_tag": "ABX9TyNbU+NQE/coj9VSeYKPrOBM",
      "include_colab_link": true
    },
    "kernelspec": {
      "name": "python3",
      "display_name": "Python 3"
    },
    "language_info": {
      "name": "python"
    }
  },
  "cells": [
    {
      "cell_type": "markdown",
      "metadata": {
        "id": "view-in-github",
        "colab_type": "text"
      },
      "source": [
        "<a href=\"https://colab.research.google.com/github/JinLeeGG/Technical_Interview_Prep102_CodePath/blob/main/Unit7%20(Recursion%20and%20Divide%20%26%20Conquer%20Algorithms.)/Session1_Standard_Problem_Set_2.ipynb\" target=\"_parent\"><img src=\"https://colab.research.google.com/assets/colab-badge.svg\" alt=\"Open In Colab\"/></a>"
      ]
    },
    {
      "cell_type": "markdown",
      "source": [
        "# Problem 1: Calculating Village Size\n",
        "\n",
        "In the kingdom of Codepathia, the queen determines how many resources to distribute to a village based on its class. A village's class is equal to the number of digits in its population. Given an integer population, write a function get_village_class() that returns the number of digits in population.\n",
        "\n",
        "- Implement the solution iteratively.\n",
        "- Implement the solution recursively.\n",
        "\n",
        "Discuss: what are the similarities between the two solutions? What are the differences?"
      ],
      "metadata": {
        "id": "V_yM3SU2uOTW"
      }
    },
    {
      "cell_type": "code",
      "execution_count": 9,
      "metadata": {
        "id": "aY2HgiLJtweV"
      },
      "outputs": [],
      "source": [
        "def get_village_class_iterative(population):\n",
        "    digits = len(str(population))\n",
        "    return digits\n",
        "\n",
        "def get_village_class_recursive(population):\n",
        "    # base case\n",
        "    if not population:\n",
        "        return 0\n",
        "\n",
        "    pop = str(population)\n",
        "\n",
        "    # recursive case\n",
        "    return 1 + get_village_class_recursive(pop[1:])"
      ]
    },
    {
      "cell_type": "code",
      "source": [
        "'''\n",
        "3\n",
        "3\n",
        "1\n",
        "1\n",
        "'''\n",
        "print(get_village_class_iterative(432))\n",
        "print(get_village_class_recursive(432))\n",
        "print(get_village_class_iterative(9))\n",
        "print(get_village_class_recursive(9))"
      ],
      "metadata": {
        "colab": {
          "base_uri": "https://localhost:8080/"
        },
        "id": "xAjGVg8tuVZ7",
        "outputId": "eed4ad9a-ed51-470b-ec5c-596fde7baac7"
      },
      "execution_count": 10,
      "outputs": [
        {
          "output_type": "stream",
          "name": "stdout",
          "text": [
            "3\n",
            "3\n",
            "1\n",
            "1\n"
          ]
        }
      ]
    },
    {
      "cell_type": "markdown",
      "source": [
        "# Problem 2: Counting the Castle Walls\n",
        "In a faraway kingdom, a castle is surrounded by multiple defensive walls, where each wall is nested within another. Given a list of lists walls where each list [] represents a wall, write a recursive function count_walls() that returns the total number of walls.\n",
        "\n",
        "Evaluate the time complexity of your solution. Define your variables and provide a rationale for why you believe your solution has the stated time complexity."
      ],
      "metadata": {
        "id": "Kz9iL-e-whNi"
      }
    },
    {
      "cell_type": "code",
      "source": [
        "def count_walls(walls):\n",
        "    # Base Case: An empty list signifies the innermost part and counts as 1 wall.\n",
        "    if not walls:\n",
        "      return 1\n",
        "\n",
        "    # Recursive Step: Count the current wall (1) and add the count\n",
        "    # of the walls nested inside it (walls[1]).\n",
        "    return 1 + count_walls(walls[1])"
      ],
      "metadata": {
        "id": "NkhbgG4dw1DW"
      },
      "execution_count": 5,
      "outputs": []
    },
    {
      "cell_type": "code",
      "source": [
        "#4\n",
        "#1\n",
        "walls = [\"outer\", [\"inner\", [\"keep\", []]]]\n",
        "\n",
        "print(count_walls(walls))\n",
        "print(count_walls([]))"
      ],
      "metadata": {
        "colab": {
          "base_uri": "https://localhost:8080/"
        },
        "id": "mIWtl_gbw4p4",
        "outputId": "503c06fd-3b79-4b08-d85c-a17c34ed9e23"
      },
      "execution_count": 6,
      "outputs": [
        {
          "output_type": "stream",
          "name": "stdout",
          "text": [
            "4\n",
            "1\n"
          ]
        }
      ]
    },
    {
      "cell_type": "markdown",
      "source": [
        "# Problem 3: Reversing a Scroll\n",
        "\n",
        "A wizard is deciphering an ancient scroll and needs to reverse the letters in a word to reveal a hidden message. Write a recursive function to reverse the letters in a given scroll and returns the reversed scroll. Assume scroll only contains alphabetic characters.\n",
        "\n",
        "Evaluate the time complexity of your solution. Define your variables and provide a rationale for why you believe your solution has the stated time complexity."
      ],
      "metadata": {
        "id": "odPU2U6aDOvw"
      }
    },
    {
      "cell_type": "code",
      "source": [
        "def reverse_scroll(scroll):\n",
        "    # Base Case\n",
        "    if not scroll:\n",
        "      return \"\"\n",
        "\n",
        "    # Recursive Case\n",
        "    return scroll[-1] + reverse_scroll(scroll[:-1])"
      ],
      "metadata": {
        "id": "oho6qloGDUl1"
      },
      "execution_count": 9,
      "outputs": []
    },
    {
      "cell_type": "code",
      "source": [
        "#magic\n",
        "#spell\n",
        "print(reverse_scroll(\"cigam\"))\n",
        "print(reverse_scroll(\"lleps\"))"
      ],
      "metadata": {
        "colab": {
          "base_uri": "https://localhost:8080/"
        },
        "id": "7lV2PfbADZy7",
        "outputId": "5ae4d774-02a6-4e1b-fe43-f62517812edf"
      },
      "execution_count": 10,
      "outputs": [
        {
          "output_type": "stream",
          "name": "stdout",
          "text": [
            "magic\n",
            "spell\n"
          ]
        }
      ]
    },
    {
      "cell_type": "markdown",
      "source": [
        "# Problem 4: Palindromic Name\n",
        "\n",
        "Queen Ada is superstitious and believes her children will only have good fortune if their name is symmetrical and reads the same forward and backward. Write a recursive function that takes in a string comprised of only lowercase alphabetic characters name and returns True if the name is palindromic and False otherwise.\n",
        "\n",
        "Evaluate the time complexity of your solution. Define your variables and provide a rationale for why you believe your solution has the stated time complexity."
      ],
      "metadata": {
        "id": "OLN32-t7EE4p"
      }
    },
    {
      "cell_type": "code",
      "source": [
        "def is_palindrome(name):\n",
        "    # Base Case: When the length of String is 0 or 1, it is palindrome\n",
        "    if len(name) <= 1:\n",
        "        return True\n",
        "\n",
        "    # Recursive Case: compare first and last element in the String.\n",
        "    if name[0] == name[-1]:\n",
        "      # If they match, recursively call the function on the substring\n",
        "      # that excludes the first and last characters.\n",
        "      return is_palindrome(name[1:-1])\n",
        "    else:\n",
        "    # Otherwise, it is not palindrome\n",
        "      return False\n",
        ""
      ],
      "metadata": {
        "id": "sQBvFwVSDbVM"
      },
      "execution_count": 11,
      "outputs": []
    },
    {
      "cell_type": "code",
      "source": [
        "'''\n",
        "True\n",
        "False\n",
        "True\n",
        "'''\n",
        "print(is_palindrome(\"eve\"))\n",
        "print(is_palindrome(\"ling\"))\n",
        "print(is_palindrome(\"\"))"
      ],
      "metadata": {
        "colab": {
          "base_uri": "https://localhost:8080/"
        },
        "id": "DXMhXV1hF5lp",
        "outputId": "14046ff2-40b7-48f2-8935-9920d4dbff23"
      },
      "execution_count": 13,
      "outputs": [
        {
          "output_type": "stream",
          "name": "stdout",
          "text": [
            "True\n",
            "False\n",
            "True\n"
          ]
        }
      ]
    },
    {
      "cell_type": "markdown",
      "source": [
        "# Problem 5: Doubling the Power of a Spell\n",
        "The court magician is practicing a spell that doubles its power with each incantation. Given an integer initial_power and a non-negative integer n, write a recursive function that doubles initial_power n times.\n",
        "\n",
        "Evaluate the time complexity of your solution. Define your variables and provide a rationale for why you believe your solution has the stated time complexity."
      ],
      "metadata": {
        "id": "K_Rxayh8IdBB"
      }
    },
    {
      "cell_type": "code",
      "source": [
        "def double_power(initial_power, n):\n",
        "    # base case: when n hits 0, return the initial power\n",
        "    if n == 0:\n",
        "        return initial_power\n",
        "\n",
        "    # Recursive Case: double the initial power and call the function with n-1\n",
        "    return double_power(initial_power * 2, n - 1)"
      ],
      "metadata": {
        "id": "giK3roLxIjRq"
      },
      "execution_count": 38,
      "outputs": []
    },
    {
      "cell_type": "code",
      "source": [
        "'''\n",
        "40\n",
        "Example 1 Explanation: 5 doubled 3 times: 5 -> 10 -> 20 -> 40\n",
        "\n",
        "Output: 28\n",
        "Example 2 Explanation: 7 doubled 2 times: 7 -> 14 -> 28\n",
        "'''\n",
        "print(double_power(5, 3))\n",
        "print(double_power(7, 2))"
      ],
      "metadata": {
        "colab": {
          "base_uri": "https://localhost:8080/"
        },
        "id": "GouMToq4I2Tx",
        "outputId": "0153982b-1b5f-4ecd-eae0-08a4b595e038"
      },
      "execution_count": 39,
      "outputs": [
        {
          "output_type": "stream",
          "name": "stdout",
          "text": [
            "40\n",
            "28\n"
          ]
        }
      ]
    },
    {
      "cell_type": "markdown",
      "source": [
        "# Problem 6: Checking the Knight's Path\n",
        "\n",
        "A knight is traveling along a path marked by stones, and each stone has a number on it. The knight must check if the numbers on the stones form a strictly increasing sequence. Write a recursive function to determine if the sequence is strictly increasing.\n",
        "\n",
        "Evaluate the time complexity of your solution. Define your variables and provide a rationale for why you believe your solution has the stated time complexity."
      ],
      "metadata": {
        "id": "B7_SS5SGLx2_"
      }
    },
    {
      "cell_type": "code",
      "source": [
        "def is_increasing_path(path):\n",
        "    # Base case: if a list is empty, return True\n",
        "    if len(path) == 1:\n",
        "        return True\n",
        "\n",
        "    # Recursive Case: compare first and next element.\n",
        "    if path[0] < path[1]:\n",
        "        # If the first element is smaller, call recursive function\n",
        "        return is_increasing_path(path[1:])\n",
        "    else:\n",
        "        # If is not smaller, return false\n",
        "        return False"
      ],
      "metadata": {
        "id": "O-XQZ6B-L3t4"
      },
      "execution_count": 43,
      "outputs": []
    },
    {
      "cell_type": "code",
      "source": [
        "'''\n",
        "True\n",
        "False\n",
        "'''\n",
        "print(is_increasing_path([1, 2, 3, 4, 5]))\n",
        "print(is_increasing_path([3, 5, 2, 8]))"
      ],
      "metadata": {
        "colab": {
          "base_uri": "https://localhost:8080/"
        },
        "id": "aR2GhuTPMAhO",
        "outputId": "45e98788-0f6f-4362-f629-ae0a09d2da96"
      },
      "execution_count": 44,
      "outputs": [
        {
          "output_type": "stream",
          "name": "stdout",
          "text": [
            "True\n",
            "False\n"
          ]
        }
      ]
    },
    {
      "cell_type": "markdown",
      "source": [
        "# Problem 7: Finding the Longest Winning Streak\n",
        "\n",
        "In the kingdom's grand tournament, knights compete in a series of challenges. A knight's performance in the challenge is represented by a string challenges, where a success is represented by an S and each other outcome (like a draw or loss) is represented by an \"O\". Write a recursive function to find the length of the longest consecutive streak of successful challenges (\"S\").\n",
        "\n",
        "Evaluate the time complexity of your solution. Define your variables and provide a rationale for why you believe your solution has the stated time complexity."
      ],
      "metadata": {
        "id": "FRkygeSMNebW"
      }
    },
    {
      "cell_type": "code",
      "source": [
        "def longest_streak(challenges, current_length=0, max_length=0):\n",
        "    # Base Case: When the challenges string is empty, return the maximum length found.\n",
        "    if not challenges:\n",
        "        return max(current_length, max_length)\n",
        "\n",
        "    # Recursive Case:\n",
        "    if challenges[0] == \"S\":\n",
        "        # If the current character is 'S', increment the current streak length\n",
        "        return longest_streak(challenges[1:], current_length + 1, max_length)\n",
        "    else:\n",
        "        # If the current character is 'O', the streak is broken.\n",
        "        # Update max_length with the current_length if it's greater, and reset current_length to 0.\n",
        "        return longest_streak(challenges[1:], 0, max(current_length, max_length))"
      ],
      "metadata": {
        "id": "vHLnWaI9NxFq"
      },
      "execution_count": 49,
      "outputs": []
    },
    {
      "cell_type": "code",
      "source": [
        "'''\n",
        "3\n",
        "1\n",
        "'''\n",
        "print(longest_streak(\"SSOSSS\"))\n",
        "print(longest_streak(\"SOSOSOSO\"))"
      ],
      "metadata": {
        "colab": {
          "base_uri": "https://localhost:8080/"
        },
        "id": "Ag5GWlaSNzUI",
        "outputId": "cd33f5aa-ce41-4f37-e660-5962d3bd4f8a"
      },
      "execution_count": 50,
      "outputs": [
        {
          "output_type": "stream",
          "name": "stdout",
          "text": [
            "3\n",
            "1\n"
          ]
        }
      ]
    },
    {
      "cell_type": "markdown",
      "source": [
        "# Problem 8: Weaving Spells\n",
        "A magician can double a spell's power if they merge two incantations together. Given the heads of two linked lists spell_a and spell_b where each node in the lists contains a spell segment, write a recursive function weave_spells() that weaves spells in the pattern:\n",
        "\n",
        "a1 -> b1 -> a2 -> b2 -> a3 -> b3 -> ..."
      ],
      "metadata": {
        "id": "LHmoFLIRQu1n"
      }
    },
    {
      "cell_type": "code",
      "source": [
        "class Node:\n",
        "    def __init__(self, value, next=None):\n",
        "        self.value = value\n",
        "        self.next = next\n",
        "\n",
        "# For testing\n",
        "def print_linked_list(head):\n",
        "    current = head\n",
        "    while current:\n",
        "        print(current.value, end=\" -> \" if current.next else \"\\n\")\n",
        "        current = current.next\n",
        "\n",
        "def weave_spells(spell_a, spell_b):\n",
        "    # Base case: if both lists are empty, return None\n",
        "    if not spell_a and not spell_b:\n",
        "        return None\n",
        "\n",
        "    # If spell_a is not empty, take the head of spell_a\n",
        "    if spell_a:\n",
        "        new_head = spell_a\n",
        "        # Recursively weave the rest of spell_a with spell_b\n",
        "        new_head.next = weave_spells(spell_b, spell_a.next)\n",
        "        return new_head\n",
        "    else:\n",
        "        # If spell_a is empty but spell_b is not, take the head of spell_b\n",
        "        new_head = spell_b\n",
        "        # Recursively weave the rest of spell_b with an empty spell_a\n",
        "        new_head.next = weave_spells(spell_b.next, None)\n",
        "        return new_head"
      ],
      "metadata": {
        "id": "0V0yiVYyQ4Ky"
      },
      "execution_count": 52,
      "outputs": []
    },
    {
      "cell_type": "code",
      "source": [
        "# A -> B -> C -> D -> E -> F\n",
        "spell_a = Node('A', Node('C', Node('E')))\n",
        "spell_b = Node('B', Node('D', Node('F')))\n",
        "\n",
        "print_linked_list(weave_spells(spell_a, spell_b))"
      ],
      "metadata": {
        "colab": {
          "base_uri": "https://localhost:8080/"
        },
        "id": "QLYW8Na7Q6CK",
        "outputId": "25e12183-987f-4ede-909f-e08daa974a41"
      },
      "execution_count": 53,
      "outputs": [
        {
          "output_type": "stream",
          "name": "stdout",
          "text": [
            "A -> B -> C -> D -> E -> F\n"
          ]
        }
      ]
    },
    {
      "cell_type": "markdown",
      "source": [
        "# Problem 9: Weaving Spells II\n",
        "Below is an iterative solution to the weaving_spells() function from the previous problem. Compare your recursive solution to the iterative solution below.\n",
        "\n",
        "Discuss with your podmates. Which solution do you prefer?"
      ],
      "metadata": {
        "id": "pGI0W6wBRZQd"
      }
    },
    {
      "cell_type": "code",
      "source": [
        "class Node:\n",
        "    def __init__(self, value, next=None):\n",
        "        self.value = value\n",
        "        self.next = next\n",
        "\n",
        "# For testing\n",
        "def print_linked_list(head):\n",
        "    current = head\n",
        "    while current:\n",
        "        print(current.value, end=\" -> \" if current.next else \"\\n\")\n",
        "        current = current.next\n",
        "\n",
        "def weave_spells(spell_a, spell_b):\n",
        "    # If either list is empty, return the other\n",
        "    if not spell_a:\n",
        "        return spell_b\n",
        "    if not spell_b:\n",
        "        return spell_a\n",
        "\n",
        "    # Start with the first node of spell_a\n",
        "    head = spell_a\n",
        "\n",
        "    # Loop through both lists until one is exhausted\n",
        "    while spell_a and spell_b:\n",
        "        # Store the next pointers\n",
        "        next_a = spell_a.next\n",
        "        next_b = spell_b.next\n",
        "\n",
        "        # Weave spell_b after spell_a\n",
        "        spell_a.next = spell_b\n",
        "\n",
        "        # If there's more in spell_a, weave it after spell_b\n",
        "        if next_a:\n",
        "            spell_b.next = next_a\n",
        "\n",
        "        # Move to the next nodes\n",
        "        spell_a = next_a\n",
        "        spell_b = next_b\n",
        "\n",
        "    # Return the head of the new woven list\n",
        "    return head"
      ],
      "metadata": {
        "id": "QPZ_AltKRdPO"
      },
      "execution_count": 54,
      "outputs": []
    },
    {
      "cell_type": "code",
      "source": [
        "# A -> B -> C -> D -> E -> F\n",
        "spell_a = Node('A', Node('C', Node('E')))\n",
        "spell_b = Node('B', Node('D', Node('F')))\n",
        "\n",
        "print_linked_list(weave_spells(spell_a, spell_b))"
      ],
      "metadata": {
        "colab": {
          "base_uri": "https://localhost:8080/"
        },
        "id": "p1W8uIPyRfBx",
        "outputId": "492d3ce2-aa2b-48a6-e941-d7ee0ca625c8"
      },
      "execution_count": 55,
      "outputs": [
        {
          "output_type": "stream",
          "name": "stdout",
          "text": [
            "A -> B -> C -> D -> E -> F\n"
          ]
        }
      ]
    }
  ]
}